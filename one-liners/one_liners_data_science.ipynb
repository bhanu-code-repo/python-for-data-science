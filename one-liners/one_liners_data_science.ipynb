{
 "cells": [
  {
   "cell_type": "markdown",
   "id": "apart-aside",
   "metadata": {},
   "source": [
    "#### Knowledge Sharing Content\n",
    "# <center> One Liners - Data Science\n",
    "#### [Bhanu Pratap Singh](https://www.linkedin.com/in/bpst/)"
   ]
  },
  {
   "cell_type": "markdown",
   "id": "compliant-complaint",
   "metadata": {},
   "source": [
    "## Two Dimensional Array Arithmetic"
   ]
  },
  {
   "cell_type": "code",
   "execution_count": 1,
   "id": "further-racing",
   "metadata": {},
   "outputs": [
    {
     "name": "stderr",
     "output_type": "stream",
     "text": [
      "c:\\program files\\python37\\lib\\site-packages\\numpy\\_distributor_init.py:32: UserWarning: loaded more than 1 DLL from .libs:\n",
      "c:\\program files\\python37\\lib\\site-packages\\numpy\\.libs\\libopenblas.NOIJJG62EMASZI6NYURL6JBKM4EVBGM7.gfortran-win_amd64.dll\n",
      "c:\\program files\\python37\\lib\\site-packages\\numpy\\.libs\\libopenblas.WCDJNK7YVMPZQ2ME2ZZHJJRJ3JIKNDB7.gfortran-win_amd64.dll\n",
      "  stacklevel=1)\n"
     ]
    }
   ],
   "source": [
    "# Importing Packages\n",
    "import numpy as np"
   ]
  },
  {
   "cell_type": "code",
   "execution_count": 2,
   "id": "domestic-college",
   "metadata": {},
   "outputs": [
    {
     "name": "stdout",
     "output_type": "stream",
     "text": [
      "[1 2 3]\n"
     ]
    }
   ],
   "source": [
    "# Creating a 1D array from a list\n",
    "a = np.array([1, 2, 3])\n",
    "print(a)"
   ]
  },
  {
   "cell_type": "code",
   "execution_count": 3,
   "id": "owned-penetration",
   "metadata": {},
   "outputs": [
    {
     "name": "stdout",
     "output_type": "stream",
     "text": [
      "[[1 2]\n",
      " [3 4]]\n"
     ]
    }
   ],
   "source": [
    "# Creating a 2D array from a list of lists\n",
    "b = np.array([[1, 2],\n",
    "              [3, 4]])\n",
    "print(b)"
   ]
  },
  {
   "cell_type": "code",
   "execution_count": 4,
   "id": "significant-plasma",
   "metadata": {},
   "outputs": [
    {
     "name": "stdout",
     "output_type": "stream",
     "text": [
      "[[[1 2]\n",
      "  [3 4]]\n",
      "\n",
      " [[5 6]\n",
      "  [7 8]]]\n"
     ]
    }
   ],
   "source": [
    "# Creating a 3D array from a list of lists of lists\n",
    "c = np.array([[[1, 2], [3, 4]],\n",
    "              [[5, 6], [7, 8]]])\n",
    "print(c)"
   ]
  },
  {
   "cell_type": "markdown",
   "id": "provincial-brunei",
   "metadata": {},
   "source": [
    "__Note__\n",
    "\n",
    "* A one-dimensional array corresponds to a simple `list` of numerical values (in fact, NumPy arrays can contain other data types too, but we’ll focus on numbers here). \n",
    "* A two-dimensional array corresponds to a nested `list of lists` of numerical values. \n",
    "* A three-dimensional array corresponds to a nested `list of lists of lists` of numerical values. \n",
    "\n",
    "The number of opening and closing brackets gives us the dimensionality of the NumPy array."
   ]
  },
  {
   "cell_type": "code",
   "execution_count": 6,
   "id": "adjacent-surfing",
   "metadata": {},
   "outputs": [],
   "source": [
    "# First Array\n",
    "a = np.array([[1, 0, 0],\n",
    "              [1, 1, 1],\n",
    "              [2, 0, 0]])\n",
    "\n",
    "# Second Array\n",
    "b = np.array([[1, 1, 1],\n",
    "              [1, 1, 2],\n",
    "              [1, 1, 2]])"
   ]
  },
  {
   "cell_type": "code",
   "execution_count": 7,
   "id": "resident-motel",
   "metadata": {},
   "outputs": [
    {
     "name": "stdout",
     "output_type": "stream",
     "text": [
      "[[2 1 1]\n",
      " [2 2 3]\n",
      " [3 1 2]]\n"
     ]
    }
   ],
   "source": [
    "# Addition\n",
    "print(a + b)"
   ]
  },
  {
   "cell_type": "code",
   "execution_count": 8,
   "id": "homeless-bernard",
   "metadata": {},
   "outputs": [
    {
     "name": "stdout",
     "output_type": "stream",
     "text": [
      "[[ 0 -1 -1]\n",
      " [ 0  0 -1]\n",
      " [ 1 -1 -2]]\n"
     ]
    }
   ],
   "source": [
    "# Substraction\n",
    "print(a - b)"
   ]
  },
  {
   "cell_type": "code",
   "execution_count": 9,
   "id": "complex-interest",
   "metadata": {},
   "outputs": [
    {
     "name": "stdout",
     "output_type": "stream",
     "text": [
      "[[1 0 0]\n",
      " [1 1 2]\n",
      " [2 0 0]]\n"
     ]
    }
   ],
   "source": [
    "# Multiplication\n",
    "print(a * b)"
   ]
  },
  {
   "cell_type": "code",
   "execution_count": 10,
   "id": "gorgeous-bouquet",
   "metadata": {},
   "outputs": [
    {
     "name": "stdout",
     "output_type": "stream",
     "text": [
      "[[1.  0.  0. ]\n",
      " [1.  1.  0.5]\n",
      " [2.  0.  0. ]]\n"
     ]
    }
   ],
   "source": [
    "# Division\n",
    "print(a / b)"
   ]
  },
  {
   "cell_type": "code",
   "execution_count": 11,
   "id": "noble-forest",
   "metadata": {},
   "outputs": [
    {
     "name": "stdout",
     "output_type": "stream",
     "text": [
      "[[1 0 0]\n",
      " [1 1 0]\n",
      " [2 0 0]]\n"
     ]
    }
   ],
   "source": [
    "# Division\n",
    "print(a // b)"
   ]
  },
  {
   "cell_type": "markdown",
   "id": "empirical-paper",
   "metadata": {},
   "source": [
    "NumPy provides a lot more capabilities for manipulating arrays, including the `np.max()` function, which calculates the maximum value of all values in a NumPy array. The `np.min()` function calculates the minimum value of all values in a NumPy array. The `np.average()` function calculates the average value of all values in a NumPy array."
   ]
  },
  {
   "cell_type": "code",
   "execution_count": 12,
   "id": "after-piano",
   "metadata": {},
   "outputs": [
    {
     "name": "stdout",
     "output_type": "stream",
     "text": [
      "2\n"
     ]
    }
   ],
   "source": [
    "# max function\n",
    "print(np.max(a))"
   ]
  },
  {
   "cell_type": "code",
   "execution_count": 13,
   "id": "stretch-victor",
   "metadata": {},
   "outputs": [
    {
     "name": "stdout",
     "output_type": "stream",
     "text": [
      "0\n"
     ]
    }
   ],
   "source": [
    "# min function\n",
    "print(np.min(a))"
   ]
  },
  {
   "cell_type": "code",
   "execution_count": 14,
   "id": "polished-capital",
   "metadata": {},
   "outputs": [
    {
     "name": "stdout",
     "output_type": "stream",
     "text": [
      "0.6666666666666666\n"
     ]
    }
   ],
   "source": [
    "# average function\n",
    "print(np.average(a))"
   ]
  },
  {
   "cell_type": "markdown",
   "id": "warming-bachelor",
   "metadata": {},
   "source": [
    "The maximum value of all values in the NumPy array is 2, the minimum value is 0, and the average is (1 + 0 + 0 + 1 + 1 + 1 + 2 + 0 + 0) / 9 = 2/3."
   ]
  },
  {
   "cell_type": "markdown",
   "id": "foreign-keeping",
   "metadata": {},
   "source": [
    "### Promblem Statement - I\n",
    "\n",
    "Find the maximum after-tax income in a group of people, given their yearly salary and tax rates."
   ]
  },
  {
   "cell_type": "markdown",
   "id": "through-chapel",
   "metadata": {},
   "source": [
    "#### Solution\n",
    "\n",
    "Let’s tackle this problem by using the salary data of Alice, Bob, and Tim. \n",
    "\n",
    "| Name | 2018 | 2019 | 2020 |\n",
    "| --- | --- | --- | --- |\n",
    "| Alice | 99 | 101 | 103 |\n",
    "| Bob | 110 | 108 | 105 |\n",
    "| Tim | 90 | 88 | 85 |\n",
    "\n",
    "<i>**Note**: Numbers are yearly salary in ($1000)</i>\n",
    "\n",
    "It seems like Bob has enjoyed the highest salary in the last three years. But is he actually bringing home the most money, considering the individual tax rates of our three friends?"
   ]
  },
  {
   "cell_type": "code",
   "execution_count": 18,
   "id": "determined-yesterday",
   "metadata": {},
   "outputs": [
    {
     "name": "stdout",
     "output_type": "stream",
     "text": [
      "81.0\n"
     ]
    }
   ],
   "source": [
    "# Data: yearly salary in ($1000) [2017, 2018, 2019]\n",
    "alice = [99, 101, 103]\n",
    "bob = [110, 108, 105]\n",
    "tim = [90, 88, 85]\n",
    "\n",
    "salaries = np.array([alice, bob, tim])\n",
    "taxation = np.array([[0.2, 0.25, 0.22],\n",
    "                     [0.4, 0.5, 0.5],\n",
    "                     [0.1, 0.2, 0.1]])\n",
    "\n",
    "# One-liner\n",
    "max_income = np.max(salaries - salaries * taxation)\n",
    "\n",
    "# Result\n",
    "print(max_income)"
   ]
  },
  {
   "cell_type": "markdown",
   "id": "indie-halloween",
   "metadata": {},
   "source": [
    "Wow, amazing however how it works!!!\n",
    "\n",
    "Let's see that now,"
   ]
  },
  {
   "cell_type": "code",
   "execution_count": 17,
   "id": "middle-corruption",
   "metadata": {},
   "outputs": [
    {
     "data": {
      "text/plain": [
       "array([[ 99, 101, 103],\n",
       "       [110, 108, 105],\n",
       "       [ 90,  88,  85]])"
      ]
     },
     "execution_count": 17,
     "metadata": {},
     "output_type": "execute_result"
    }
   ],
   "source": [
    "# printing salaries\n",
    "salaries"
   ]
  },
  {
   "cell_type": "markdown",
   "id": "ultimate-seeker",
   "metadata": {},
   "source": [
    "We put the data into a two-dimensional NumPy array with three rows (one row for each person: Alice, Bob, and Tim) and three columns (one column for each year: 2017, 2018, and 2019).\n",
    "\n",
    "Basically, now we have two two-dimensional arrays: `salaries` holds the yearly incomes, and `taxation` holds the taxation rates for each person and year."
   ]
  },
  {
   "cell_type": "markdown",
   "id": "original-repeat",
   "metadata": {},
   "source": [
    "Let's analyse income computation,\n",
    "\n",
    "**max_income = np.max(salaries - salaries * taxation)**\n",
    "\n",
    "To calculate the after-tax income, you need to deduct the tax (as a dollar amount) from the gross income stored in the array salaries. For this, we use the overloaded NumPy operators - and *, which perform element-wise computations on the NumPy arrays.\n",
    "\n",
    "The element-wise multiplication of two multidimensional arrays is called the `Hadamard product`."
   ]
  },
  {
   "cell_type": "code",
   "execution_count": 22,
   "id": "bearing-bedroom",
   "metadata": {},
   "outputs": [
    {
     "name": "stdout",
     "output_type": "stream",
     "text": [
      "[[79.2  75.75 80.34]\n",
      " [66.   54.   52.5 ]\n",
      " [81.   70.4  76.5 ]]\n"
     ]
    }
   ],
   "source": [
    "# salaries for all for all years\n",
    "print(salaries - salaries * taxation)"
   ]
  },
  {
   "cell_type": "markdown",
   "id": "dying-marriage",
   "metadata": {},
   "source": [
    "Here, we can see that Bob’s large income is significantly reduced after paying 40 percent and 50 percent tax rates, shown in the second row."
   ]
  },
  {
   "cell_type": "code",
   "execution_count": 23,
   "id": "automatic-paragraph",
   "metadata": {},
   "outputs": [
    {
     "data": {
      "text/plain": [
       "81.0"
      ]
     },
     "execution_count": 23,
     "metadata": {},
     "output_type": "execute_result"
    }
   ],
   "source": [
    "# printing max income\n",
    "max_income"
   ]
  },
  {
   "cell_type": "markdown",
   "id": "built-treatment",
   "metadata": {},
   "source": [
    "The `np.max()` function simply finds the maximum value in the array, which we store in max_income. \n",
    "\n",
    "Thus, the maximum value is Tim’s $90,000 income in 2017, which is taxed at only 10 percent — the result of the one-liner is 81. (again, the dot indicates the float data type)."
   ]
  },
  {
   "cell_type": "markdown",
   "id": "liquid-adobe",
   "metadata": {},
   "source": [
    "### Problem Statement - II\n",
    "We have data for a variety of professions, and we want to increase the salaries of just the data scientists by 10 percent every other year.\n",
    "\n",
    "| Professions | 2019 | 2020 | 2021 |\n",
    "| --- | --- | --- | --- |\n",
    "| Data Scientist  | 130 | 132 | 137 |\n",
    "| Product Manager  | 127 | 140 | 145 |\n",
    "| Designer  | 118 | 118 | 127 |\n",
    "| Software Engineer   | 129 | 131 | 137 |\n",
    "\n",
    "<i>**Note**: Numbers are yearly salary in ($1000)</i>"
   ]
  },
  {
   "cell_type": "code",
   "execution_count": 24,
   "id": "reserved-grace",
   "metadata": {},
   "outputs": [
    {
     "name": "stdout",
     "output_type": "stream",
     "text": [
      "[[143 132 150]\n",
      " [127 140 145]\n",
      " [118 118 127]\n",
      " [129 131 137]]\n"
     ]
    }
   ],
   "source": [
    "# Data: yearly salary in ($1000) [2019, 2020, 2021]\n",
    "dataScientist =     [130, 132, 137]\n",
    "productManager =    [127, 140, 145]\n",
    "designer =          [118, 118, 127]\n",
    "softwareEngineer =  [129, 131, 137]\n",
    "\n",
    "employees = np.array([dataScientist,\n",
    "                      productManager,\n",
    "                      designer,\n",
    "                      softwareEngineer])\n",
    "\n",
    "# One-liner\n",
    "employees[0,::2] = employees[0,::2] * 1.1\n",
    "\n",
    "# Result\n",
    "print(employees)"
   ]
  },
  {
   "cell_type": "code",
   "execution_count": 43,
   "id": "continued-insight",
   "metadata": {},
   "outputs": [
    {
     "data": {
      "text/plain": [
       "143"
      ]
     },
     "execution_count": 43,
     "metadata": {},
     "output_type": "execute_result"
    }
   ],
   "source": [
    "# year 2019\n",
    "round(130 * 1.1)"
   ]
  },
  {
   "cell_type": "code",
   "execution_count": 42,
   "id": "dramatic-exploration",
   "metadata": {},
   "outputs": [
    {
     "data": {
      "text/plain": [
       "151"
      ]
     },
     "execution_count": 42,
     "metadata": {},
     "output_type": "execute_result"
    }
   ],
   "source": [
    "# year 2021\n",
    "round(137 * 1.1)"
   ]
  },
  {
   "cell_type": "markdown",
   "id": "surprised-highway",
   "metadata": {},
   "source": [
    "__Result__\n",
    "\n",
    "Notice the bold values in output,\n",
    "\n",
    "[[**143** 132 **150**]<br>\n",
    " [127 140 145]<br>\n",
    " [118 118 127]<br>\n",
    " [129 131 137]]\n",
    "\n",
    "Salaries of only data scientist are increased 10% every other year remaining salaries are same as earlier."
   ]
  },
  {
   "cell_type": "markdown",
   "id": "acute-europe",
   "metadata": {},
   "source": [
    "### Problem Statement - III"
   ]
  },
  {
   "cell_type": "markdown",
   "id": "unavailable-sleeve",
   "metadata": {},
   "source": [
    "Find cities with above-average pollution peaks from a set of data.\n",
    "\n",
    "| Cities | Day 1 | Day 2 | Day 3 | Day 4 | Day 5 | Day 6 |\n",
    "| --- | --- | --- | --- | --- | --- | --- |\n",
    "| Hong Kong  | 42 | 40 | 41 | 43 | 44 | 43 |\n",
    "| New York  | 30 | 31 | 29 | 29 | 29 | 30 |\n",
    "| Berlin  | 8 | 13 | 31 | 11 | 11 | 9 |\n",
    "| Montreal   | 11 | 11 | 12 | 13 | 11 | 12 |\n",
    "\n",
    "<i>**Note**: Numbers are daily air quality index mesurements in some relvent units</i>"
   ]
  },
  {
   "cell_type": "code",
   "execution_count": 26,
   "id": "indirect-aging",
   "metadata": {},
   "outputs": [
    {
     "name": "stdout",
     "output_type": "stream",
     "text": [
      "{'Hong Kong', 'Berlin', 'New York'}\n"
     ]
    }
   ],
   "source": [
    "# Data: air quality index AQI data (row = city)\n",
    "X = np.array(\n",
    "    [[ 42, 40, 41, 43, 44, 43 ],  # Hong Kong\n",
    "     [ 30, 31, 29, 29, 29, 30 ],  # New York\n",
    "     [ 8, 13, 31, 11, 11, 9 ],    # Berlin\n",
    "     [ 11, 11, 12, 13, 11, 12 ]]) # Montreal\n",
    "\n",
    "cities = np.array([\"Hong Kong\", \"New York\", \"Berlin\", \"Montreal\"])\n",
    "\n",
    "# One-liner\n",
    "polluted = set(cities[np.nonzero(X > np.average(X))[0]])\n",
    "\n",
    "# Result\n",
    "print(polluted)"
   ]
  },
  {
   "cell_type": "markdown",
   "id": "essential-logan",
   "metadata": {},
   "source": [
    "### Problem Statement - IV\n",
    "Find the names of the Instagram superstars with more than 100 million followers!\n",
    "\n",
    "| Instagram Influencer | Followers  |\n",
    "| --- | --- |\n",
    "| @instagram | 232 |\n",
    "| @selenagomez | 133 |\n",
    "| @victoriassecret | 59 |\n",
    "| @cristiano | 120 |\n",
    "| @beyonce | 111 |\n",
    "| @nike | 76 |\n",
    "\n",
    "<i>**Note**: Numbers are number of followers (in millions) for instagram influencer</i>"
   ]
  },
  {
   "cell_type": "code",
   "execution_count": 28,
   "id": "valuable-clause",
   "metadata": {},
   "outputs": [
    {
     "name": "stdout",
     "output_type": "stream",
     "text": [
      "['@instagram' '@selenagomez' '@cristiano' '@beyonce']\n"
     ]
    }
   ],
   "source": [
    "# Data: popular Instagram accounts (millions followers)\n",
    "inst = np.array([[232, \"@instagram\"],\n",
    "                 [133, \"@selenagomez\"],\n",
    "                 [59,  \"@victoriassecret\"],\n",
    "                 [120, \"@cristiano\"],\n",
    "                 [111, \"@beyonce\"],\n",
    "                 [76,  \"@nike\"]])\n",
    "\n",
    "# One-liner\n",
    "superstars = inst[inst[:,0].astype(float) > 100, 1]\n",
    "\n",
    "# Results\n",
    "print(superstars)"
   ]
  },
  {
   "cell_type": "markdown",
   "id": "periodic-campaign",
   "metadata": {},
   "source": [
    "__Result__\n",
    "\n",
    "The output shows influencers from our data set with more than 100 million Instagram followers"
   ]
  },
  {
   "cell_type": "markdown",
   "id": "mature-jackson",
   "metadata": {},
   "source": [
    "### Problem Statement - V\n",
    "Given an array of temperature values, replace every seventh temperature value with the average of the last seven days (including the seventh day’s temperature value).\n",
    "\n",
    "| Sensor Reading | Monday | Tuesday | Wednesday | Thursday | Friday | Saturday | Sunday |\n",
    "| --- | --- | --- | --- | --- | --- | --- | --- |\n",
    "| Morning  | 1 | 2 | 3 | 4 | 3 | 4 | 4 |\n",
    "| Afternoon  | 5 | 3 | 3 | 4 | 3 | 4 | 6 |\n",
    "| Night  | 6 | 5 | 5 | 5 | 4 | 5 | 5 |\n",
    "\n",
    "<i>**Note**: Numbers are temperature sensor readings for entire week</i>"
   ]
  },
  {
   "cell_type": "code",
   "execution_count": 29,
   "id": "automated-modern",
   "metadata": {},
   "outputs": [
    {
     "name": "stdout",
     "output_type": "stream",
     "text": [
      "[1 2 3 4 3 4 3 5 3 3 4 3 4 4 6 5 5 5 4 5 5]\n"
     ]
    }
   ],
   "source": [
    "# Sensor data (Mo, Tu, We, Th, Fr, Sa, Su)\n",
    "tmp = np.array([1, 2, 3, 4, 3, 4, 4,\n",
    "                5, 3, 3, 4, 3, 4, 6,\n",
    "                6, 5, 5, 5, 4, 5, 5])\n",
    "\n",
    "# One-liner\n",
    "tmp[6::7] = np.average(tmp.reshape((-1,7)), axis=1)\n",
    "\n",
    "# Result\n",
    "print(tmp)"
   ]
  },
  {
   "cell_type": "code",
   "execution_count": 37,
   "id": "cubic-gamma",
   "metadata": {},
   "outputs": [
    {
     "data": {
      "text/plain": [
       "3.0"
      ]
     },
     "execution_count": 37,
     "metadata": {},
     "output_type": "execute_result"
    }
   ],
   "source": [
    "# For Morning\n",
    "np.average([1, 2, 3, 4, 3, 4, 4])"
   ]
  },
  {
   "cell_type": "code",
   "execution_count": 38,
   "id": "fallen-florida",
   "metadata": {},
   "outputs": [
    {
     "data": {
      "text/plain": [
       "4.0"
      ]
     },
     "execution_count": 38,
     "metadata": {},
     "output_type": "execute_result"
    }
   ],
   "source": [
    "# For Afternoon\n",
    "np.average([5, 3, 3, 4, 3, 4, 6])"
   ]
  },
  {
   "cell_type": "code",
   "execution_count": 39,
   "id": "inclusive-sigma",
   "metadata": {},
   "outputs": [
    {
     "data": {
      "text/plain": [
       "5.0"
      ]
     },
     "execution_count": 39,
     "metadata": {},
     "output_type": "execute_result"
    }
   ],
   "source": [
    "# For Night\n",
    "np.average([6, 5, 5, 5, 4, 5, 5])"
   ]
  },
  {
   "cell_type": "markdown",
   "id": "crucial-valuation",
   "metadata": {},
   "source": [
    "__Result__\n",
    "\n",
    "Notice bold values in output, initial values were 4, 6 and 3 respectively. However now they are replaced by average value for week\n",
    "\n",
    "[1 2 3 4 3 4 **3** 5 3 3 4 3 4 **4** 6 5 5 5 4 5 **5**]"
   ]
  },
  {
   "cell_type": "markdown",
   "id": "dense-privacy",
   "metadata": {},
   "source": [
    "### Problem Statement - VI\n",
    "Find the names of the top three students with the highest SAT scores. \n",
    "\n",
    "| Name | John | Bob | Alice | Joe | Jane | Frank | Carl |\n",
    "| --- | --- | --- | --- | --- | --- | --- | --- |\n",
    "| Scores | 1100 | 1256 | 1543 | 1043 | 989 | 1412 | 1343 |"
   ]
  },
  {
   "cell_type": "code",
   "execution_count": 30,
   "id": "peaceful-degree",
   "metadata": {},
   "outputs": [
    {
     "name": "stdout",
     "output_type": "stream",
     "text": [
      "['Alice' 'Frank' 'Carl']\n"
     ]
    }
   ],
   "source": [
    "# Data: SAT scores for different students\n",
    "sat_scores = np.array([1100, 1256, 1543, 1043, 989, 1412, 1343])\n",
    "students = np.array([\"John\", \"Bob\", \"Alice\", \"Joe\", \"Jane\", \"Frank\", \"Carl\"])\n",
    "\n",
    "# One-liner\n",
    "top_3 = students[np.argsort(sat_scores)][:-4:-1]\n",
    "\n",
    "# Result\n",
    "print(top_3)"
   ]
  },
  {
   "cell_type": "markdown",
   "id": "transsexual-crazy",
   "metadata": {},
   "source": [
    "__Result__\n",
    "\n",
    "Alice, Frank, and Carl have the highest SAT scores of 1543, 1412, and 1343, respectively."
   ]
  },
  {
   "cell_type": "markdown",
   "id": "legitimate-hayes",
   "metadata": {},
   "source": [
    "### Problem Statement - VII\n",
    "Create a filter function that takes a list of books x and a minimum rating y and returns a list of potential bestsellers that have higher than minimum rating, y'>y.\n",
    "\n",
    "| Title | Rating  |\n",
    "| --- | --- |\n",
    "| Coffee Break NumPy | 4.6 |\n",
    "| Lord of the Rings | 5.0 |\n",
    "| Harry Potter | 4.3 |\n",
    "| Winnie-the-Pooh | 3.9 |\n",
    "| The Clown of God | 2.2 |\n",
    "| Coffee Break Python | 4.7 |"
   ]
  },
  {
   "cell_type": "code",
   "execution_count": 31,
   "id": "collected-equilibrium",
   "metadata": {},
   "outputs": [
    {
     "name": "stdout",
     "output_type": "stream",
     "text": [
      "[['Coffee Break NumPy' '4.6']\n",
      " ['Lord of the Rings' '5.0']\n",
      " ['Harry Potter' '4.3']\n",
      " ['Coffee Break Python' '4.7']]\n"
     ]
    }
   ],
   "source": [
    "# Data (row = [title, rating])\n",
    "books = np.array([['Coffee Break NumPy', 4.6],\n",
    "                  ['Lord of the Rings', 5.0],\n",
    "                  ['Harry Potter', 4.3],\n",
    "                  ['Winnie-the-Pooh', 3.9],\n",
    "                  ['The Clown of God', 2.2],\n",
    "                  ['Coffee Break Python', 4.7]])\n",
    "\n",
    "# One-liner\n",
    "predict_bestseller = lambda x, y : x[x[:,1].astype(float) > y]\n",
    "\n",
    "# Results\n",
    "print(predict_bestseller(books, 3.9))"
   ]
  },
  {
   "cell_type": "markdown",
   "id": "generous-hundred",
   "metadata": {},
   "source": [
    "### Problem Statement - VIII\n",
    "Find all outlier days for which the statistics deviate more than the standard deviation from their mean statistics.\n",
    "\n",
    "| Days | Daily Active Users | Bounce Rate | Average Session Duration (seconds) |\n",
    "| --- | --- | --- | --- |\n",
    "| Day 1  | 815 | 70 | 115 |\n",
    "| Day 5  | 767 | 80 | 50 |\n",
    "| Day 10 | 912 | 74 | 77 |\n",
    "| Day 15 | 554 | 88 | 70 |\n",
    "| Day 20 | 1008 | 65 | 128 |\n",
    "\n",
    "<i>**Note**: Numbers represents the column record mesurements in their respective units</i>"
   ]
  },
  {
   "cell_type": "code",
   "execution_count": 32,
   "id": "biblical-applicant",
   "metadata": {},
   "outputs": [
    {
     "name": "stdout",
     "output_type": "stream",
     "text": [
      "[[1008   65  128]]\n"
     ]
    }
   ],
   "source": [
    "# Website analytics data:\n",
    "# (row = day), (col = users, bounce, duration)\n",
    "a = np.array([[815, 70, 115],\n",
    "              [767, 80, 50],\n",
    "              [912, 74, 77],\n",
    "              [554, 88, 70],\n",
    "              [1008, 65, 128]])\n",
    "mean, stdev = np.mean(a, axis=0), np.std(a, axis=0)\n",
    "# [811.2  76.4  88. ], [152.97764543   6.85857128  29.04479299]\n",
    "\n",
    "# One-liner\n",
    "outliers = ((np.abs(a[:,0] - mean[0]) > stdev[0])\n",
    "            * (np.abs(a[:,1] - mean[1]) > stdev[1])\n",
    "            * (np.abs(a[:,2] - mean[2]) > stdev[2]))\n",
    "\n",
    "# Result\n",
    "print(a[outliers])"
   ]
  },
  {
   "cell_type": "markdown",
   "id": "criminal-inspector",
   "metadata": {},
   "source": [
    "__Result__\n",
    "\n",
    "There is only a single row for which all three columns are outliers"
   ]
  },
  {
   "cell_type": "markdown",
   "id": "unauthorized-folder",
   "metadata": {},
   "source": [
    "### Problem Statement - IX\n",
    "What fraction of customers bought two ebooks together? Based on this data, the recommender system can offer customers a book “bundle” to buy if it sees that they originally intended to buy a single book.\n",
    "\n",
    "| Customer  | Course 1 | Course 2 | eBook 1 | eBook 2 |\n",
    "| --- | --- | --- | --- | --- |\n",
    "| Customer 1  | 0 | 1 | 1 | 0 | \n",
    "| Customer 2  | 0 | 0 | 0 | 1 | \n",
    "| Customer 3  | 1 | 1 | 0 | 0 |\n",
    "| Customer 4  | 0 | 1 | 1 | 1 |\n",
    "| Customer 5  | 1 | 1 | 1 | 0 |\n",
    "| Customer 6  | 0 | 1 | 1 | 0 |\n",
    "| Customer 7  | 1 | 1 | 0 | 1 |\n",
    "| Customer 8  | 1 | 1 | 1 | 1 |"
   ]
  },
  {
   "cell_type": "code",
   "execution_count": 33,
   "id": "lined-swift",
   "metadata": {},
   "outputs": [
    {
     "name": "stdout",
     "output_type": "stream",
     "text": [
      "0.25\n"
     ]
    }
   ],
   "source": [
    "# Data: row is customer shopping basket\n",
    "# row = [course 1, course 2, ebook 1, ebook 2]\n",
    "# value 1 indicates that an item was bought.\n",
    "basket = np.array([[0, 1, 1, 0],\n",
    "                   [0, 0, 0, 1],\n",
    "                   [1, 1, 0, 0],\n",
    "                   [0, 1, 1, 1],\n",
    "                   [1, 1, 1, 0],\n",
    "                   [0, 1, 1, 0],\n",
    "                   [1, 1, 0, 1],\n",
    "                   [1, 1, 1, 1]])\n",
    "\n",
    "# One-liner\n",
    "copurchases = np.sum(np.all(basket[:,2:], axis = 1)) / basket.shape[0]\n",
    "\n",
    "# Result\n",
    "print(copurchases)"
   ]
  },
  {
   "cell_type": "markdown",
   "id": "atomic-conservative",
   "metadata": {},
   "source": [
    "__Result__\n",
    "\n",
    "25 % customers bought both ebooks together"
   ]
  },
  {
   "cell_type": "markdown",
   "id": "direct-providence",
   "metadata": {},
   "source": [
    "#### Another Problem\n",
    "Find the two items that were purchased most often together"
   ]
  },
  {
   "cell_type": "code",
   "execution_count": 34,
   "id": "express-harris",
   "metadata": {},
   "outputs": [
    {
     "name": "stdout",
     "output_type": "stream",
     "text": [
      "(1, 2, 5)\n"
     ]
    }
   ],
   "source": [
    "# One-liner (broken down in two lines;)\n",
    "copurchases = [(i,j,np.sum(basket[:,i] + basket[:,j] == 2))\n",
    "               for i in range(4) for j in range(i+1,4)]\n",
    "\n",
    "# Result\n",
    "print(max(copurchases, key=lambda x:x[2]))"
   ]
  },
  {
   "cell_type": "markdown",
   "id": "lyric-restaurant",
   "metadata": {},
   "source": [
    "__Result__\n",
    "\n",
    "The second and third products have been purchased together five times. No other product combination reaches copurchasing power this high. Hence, we can tell our boss to upsell product 2 when selling product 1, and vice versa."
   ]
  }
 ],
 "metadata": {
  "kernelspec": {
   "display_name": "Python 3",
   "language": "python",
   "name": "python3"
  },
  "language_info": {
   "codemirror_mode": {
    "name": "ipython",
    "version": 3
   },
   "file_extension": ".py",
   "mimetype": "text/x-python",
   "name": "python",
   "nbconvert_exporter": "python",
   "pygments_lexer": "ipython3",
   "version": "3.7.3"
  }
 },
 "nbformat": 4,
 "nbformat_minor": 5
}
