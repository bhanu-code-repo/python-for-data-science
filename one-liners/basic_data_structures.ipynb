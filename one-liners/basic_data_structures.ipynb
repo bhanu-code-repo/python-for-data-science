{
 "cells": [
  {
   "cell_type": "markdown",
   "id": "cooked-broadcast",
   "metadata": {},
   "source": [
    "#### Knowledge Sharing Content\n",
    "# <center> Basic Data Structures - Python\n",
    "#### [Bhanu Pratap Singh](https://www.linkedin.com/in/bpst/)"
   ]
  },
  {
   "cell_type": "markdown",
   "id": "bored-contribution",
   "metadata": {},
   "source": [
    "### Numerical Data Types"
   ]
  },
  {
   "cell_type": "markdown",
   "id": "educational-sympathy",
   "metadata": {},
   "source": [
    "The two most important numerical data types are the `integer` and `float`. An `integer` is a positive or negative number without a floating point (for example, 5). A `float` is a positive or negative number with floating-point precision (for example, 3.14159265359). Python offers a wide variety of built-in numerical operations, as well as functionality to convert between those numerical data types."
   ]
  },
  {
   "cell_type": "code",
   "execution_count": 1,
   "id": "finite-activity",
   "metadata": {},
   "outputs": [
    {
     "name": "stdout",
     "output_type": "stream",
     "text": [
      "5\n",
      "1\n",
      "6\n",
      "1.5\n",
      "1\n",
      "1\n",
      "-3\n",
      "3\n",
      "3\n",
      "3.0\n",
      "9\n"
     ]
    }
   ],
   "source": [
    "# Arithmetic Operations\n",
    "x, y = 3, 2\n",
    "print(x + y) # = 5\n",
    "print(x - y) # = 1\n",
    "print(x * y) # = 6\n",
    "print(x / y) # = 1.5\n",
    "print(x // y) # = 1\n",
    "print(x % y) # = 1\n",
    "print(-x) # = -3\n",
    "print(abs(-x)) # = 3\n",
    "print(int(3.9)) # = 3\n",
    "print(float(x)) # = 3.0\n",
    "print(x ** y) # = 9"
   ]
  },
  {
   "cell_type": "markdown",
   "id": "correct-nancy",
   "metadata": {},
   "source": [
    "Note that the `//` operator performs integer division. The result is an integer value that is rounded down (for example, 3 // 2 == 1)"
   ]
  },
  {
   "cell_type": "markdown",
   "id": "engaging-advocate",
   "metadata": {},
   "source": [
    "### Booleans"
   ]
  },
  {
   "cell_type": "markdown",
   "id": "stable-deviation",
   "metadata": {},
   "source": [
    "A variable of type Boolean can take only two values—either False or True.\n",
    "\n",
    "In Python, Boolean and integer data types are closely related: the Boolean data type internally uses integer values (by default, the Boolean value False is represented by integer 0, and the Boolean value True is represented by integer 1)."
   ]
  },
  {
   "cell_type": "code",
   "execution_count": 3,
   "id": "extended-arrest",
   "metadata": {},
   "outputs": [
    {
     "name": "stdout",
     "output_type": "stream",
     "text": [
      "False\n",
      "True\n"
     ]
    }
   ],
   "source": [
    "x = 1 > 2\n",
    "print(x) # False\n",
    "\n",
    "y = 2 > 1\n",
    "print(y) # True"
   ]
  },
  {
   "cell_type": "markdown",
   "id": "fifteen-focus",
   "metadata": {},
   "source": [
    "After evaluating the given expressions, variable x refers to the Boolean value False, and variable y refers to the Boolean value True."
   ]
  },
  {
   "cell_type": "markdown",
   "id": "secure-cocktail",
   "metadata": {},
   "source": [
    "#### Keywords: and, or, not"
   ]
  },
  {
   "cell_type": "markdown",
   "id": "nonprofit-costume",
   "metadata": {},
   "source": [
    "Boolean expressions represent basic logical operators. Using them in combination with only the following three keywords, we can craft a wide variety of potentially complicated expressions:\n",
    "\n",
    "<b>`and`</b> - the expression `x and y` evaluates to `True` if value `x` is `True` <b><i>and</b></i> value `y` is `True`. If either of those is `False`, the overall expression becomes `False` too.\n",
    "\n",
    "<b>`or`</b> - the expression `x or y` evaluates to `True` if value `x` is `True` <b><i>or</b></i> value `y` is `True` (or both values are `True`). If even just one of those is `True`, the overall expression becomes `True` too.\n",
    "\n",
    "<b>`not`</b> - the expression `not x` evaluates to `True` if value `x` is `False`. Otherwise, the expression evaluates to `False`."
   ]
  },
  {
   "cell_type": "code",
   "execution_count": 4,
   "id": "federal-miami",
   "metadata": {},
   "outputs": [
    {
     "name": "stdout",
     "output_type": "stream",
     "text": [
      "True\n",
      "True\n",
      "True\n"
     ]
    }
   ],
   "source": [
    "x, y = True, False\n",
    "\n",
    "print((x or y) == True)# True\n",
    "print((x and y) == False) # True\n",
    "print((not y) == True) # True"
   ]
  },
  {
   "cell_type": "markdown",
   "id": "guilty-mambo",
   "metadata": {},
   "source": [
    "#### Boolean Operator Precedence"
   ]
  },
  {
   "cell_type": "markdown",
   "id": "particular-begin",
   "metadata": {},
   "source": [
    "The order that Boolean operators are applied is an important aspect of understanding Boolean logic. For example, consider the natural language statement `it rains and it's cold or windy`. We can interpret this in two ways:\n",
    "\n",
    "* `(it rains and it's cold) or windy` In this case, the statement would be `True` if it is windy — even if it doesn’t rain.\n",
    "\n",
    "* `it rains and (it's cold or windy)` In this case, however, the statement would be `False` if it doesn’t rain — no matter whether it’s cold or windy.\n",
    "\n",
    "The order of Boolean operators matters. The correct interpretation of this statement would be the first one because the and operator takes precedence before the or operator. "
   ]
  },
  {
   "cell_type": "code",
   "execution_count": 5,
   "id": "fresh-rebel",
   "metadata": {},
   "outputs": [
    {
     "name": "stdout",
     "output_type": "stream",
     "text": [
      "True\n",
      "True\n"
     ]
    }
   ],
   "source": [
    "# Boolean Operations\n",
    "x, y = True, False\n",
    "\n",
    "print(x and not y) # True\n",
    "print(not x and y or x) # True"
   ]
  },
  {
   "cell_type": "code",
   "execution_count": 6,
   "id": "martial-senegal",
   "metadata": {},
   "outputs": [],
   "source": [
    "# If condition evaluates to False\n",
    "if None or 0 or 0.0 or '' or [] or {} or set():\n",
    "    print(\"Dead code\") # Not reached"
   ]
  },
  {
   "cell_type": "markdown",
   "id": "based-harmony",
   "metadata": {},
   "source": [
    "This code shows two important points. \n",
    "* First, Boolean operators are ordered by priority — the operator not has the highest priority, followed by the operator and, followed by the operator or. \n",
    "* Second, the following values are automatically evaluated to False: the keyword None, the integer value 0, the float value 0.0, empty strings, or empty container types."
   ]
  },
  {
   "cell_type": "markdown",
   "id": "fourth-picking",
   "metadata": {},
   "source": [
    "### Strings"
   ]
  },
  {
   "cell_type": "markdown",
   "id": "sudden-african",
   "metadata": {},
   "source": [
    "Python strings are sequences of characters. Strings are immutable and so cannot be changed after creation. While other ways to create strings exist, these are the five most commonly used:\n",
    "\n",
    "**Single quotes** `'Yes'`\n",
    "\n",
    "**Double quotes** `\"Yes\"`\n",
    "\n",
    "**Triple quotes for multiline strings** `'''Yes''' or \"\"\"Yes\"\"\"`\n",
    "\n",
    "**The string method** `str(5) == '5' is True`\n",
    "\n",
    "**Concatenation** `'Py' + 'thon' becomes 'Python'`\n",
    "\n",
    "Often, we explicitly want to use whitespace characters in strings. The most frequently used whitespace characters are the newline character `\\n`, the space character `\\s`, and the tab character `\\t`."
   ]
  },
  {
   "cell_type": "code",
   "execution_count": 7,
   "id": "graduate-wireless",
   "metadata": {},
   "outputs": [
    {
     "name": "stdout",
     "output_type": "stream",
     "text": [
      "This is lazy\n",
      "drdre\n",
      "ATTENTION\n",
      "True\n",
      "True\n",
      "2\n",
      "meat\n",
      "F,B,I\n",
      "15\n",
      "True\n"
     ]
    }
   ],
   "source": [
    "# Most Important String Methods\n",
    "y = \"    This is lazy\\t\\n   \"\n",
    "\n",
    "print(y.strip())\n",
    "# Remove Whitespace: 'This is lazy'\n",
    "\n",
    "print(\"DrDre\".lower())\n",
    "# Lowercase: 'drdre'\n",
    "\n",
    "print(\"attention\".upper())\n",
    "# Uppercase: 'ATTENTION'\n",
    "\n",
    "print(\"smartphone\".startswith(\"smart\"))\n",
    "# Matches the string's prefix against the argument: True\n",
    "\n",
    "print(\"smartphone\".endswith(\"phone\"))\n",
    "# Matches the string's suffix against the argument: True\n",
    "\n",
    "print(\"another\".find(\"other\"))\n",
    "# Match index: 2\n",
    "\n",
    "print(\"cheat\".replace(\"ch\", \"m\"))\n",
    "# Replaces all occurrences of the first by the second argument: meat\n",
    "\n",
    "print(','.join([\"F\", \"B\", \"I\"]))\n",
    "# Glues together all elements in the list using the separator string: F,B,I\n",
    "\n",
    "print(len(\"Rumpelstiltskin\"))\n",
    "# String length: 15\n",
    "\n",
    "print(\"ear\" in \"earth\")\n",
    "# Contains: True"
   ]
  },
  {
   "cell_type": "markdown",
   "id": "electrical-complex",
   "metadata": {},
   "source": [
    "This non-exclusive list of string methods shows that the string data type is powerful, and we can solve many common string problems with built-in Python functionality.\n",
    "\n",
    "To know more about built-in string methods [click here](https://docs.python.org/3/library/string.html#module-string)"
   ]
  },
  {
   "cell_type": "markdown",
   "id": "massive-director",
   "metadata": {},
   "source": [
    "#### The Keyword None"
   ]
  },
  {
   "cell_type": "markdown",
   "id": "arctic-border",
   "metadata": {},
   "source": [
    "The keyword `None` is a Python constant and it means `the absence of a value`. Other programming languages such as Java use the value `null` instead. However, the term `null` often confuses beginners, who assume it’s equal to the integer value `0`.\n",
    "\n",
    "Instead, Python uses the keyword `None`, to indicate that it’s different from any numerical value for zero, an empty list, or an empty string. \n",
    "\n",
    "An interesting fact is that the value `None` is the only value in the `NoneType` data type."
   ]
  },
  {
   "cell_type": "code",
   "execution_count": 9,
   "id": "better-gilbert",
   "metadata": {},
   "outputs": [
    {
     "name": "stdout",
     "output_type": "stream",
     "text": [
      "True\n",
      "False\n",
      "False\n"
     ]
    }
   ],
   "source": [
    "def f():\n",
    "   x = 2\n",
    "\n",
    "print(f() is None)\n",
    "# True\n",
    "\n",
    "print(\"\" == None)\n",
    "# False\n",
    "\n",
    "print(0 == None)\n",
    "# False"
   ]
  },
  {
   "cell_type": "markdown",
   "id": "brilliant-agenda",
   "metadata": {},
   "source": [
    "This code shows several examples of the `None` data value (and what it is not). If we don’t define a return value for a function, the default return value is `None`."
   ]
  },
  {
   "cell_type": "markdown",
   "id": "fatty-print",
   "metadata": {},
   "source": [
    "### Container Data Structures"
   ]
  },
  {
   "cell_type": "markdown",
   "id": "completed-withdrawal",
   "metadata": {},
   "source": [
    "#### Lists"
   ]
  },
  {
   "cell_type": "markdown",
   "id": "lovely-salmon",
   "metadata": {},
   "source": [
    "The `list` is a container data type that stores a sequence of elements. Unlike strings, lists are `mutable` — we can modify them at runtime."
   ]
  },
  {
   "cell_type": "code",
   "execution_count": 10,
   "id": "sitting-philosophy",
   "metadata": {},
   "outputs": [
    {
     "name": "stdout",
     "output_type": "stream",
     "text": [
      "3\n"
     ]
    }
   ],
   "source": [
    "l = [1, 2, 2]\n",
    "print(len(l))\n",
    "# 3"
   ]
  },
  {
   "cell_type": "markdown",
   "id": "split-extreme",
   "metadata": {},
   "source": [
    "This code snippet shows how to create a list by using square brackets and how to populate it with three integer elements. We can also see that lists can have repeated elements. The `len()` function returns the number of elements in a list."
   ]
  },
  {
   "cell_type": "markdown",
   "id": "entire-disaster",
   "metadata": {},
   "source": [
    "#### Keyword: is"
   ]
  },
  {
   "cell_type": "markdown",
   "id": "unnecessary-sector",
   "metadata": {},
   "source": [
    "The keyword `is` simply checks whether both variables refer to the same object in memory. \n",
    "\n",
    "Let's checks whether two integers and two lists refer to the same object in memory."
   ]
  },
  {
   "cell_type": "code",
   "execution_count": 11,
   "id": "incomplete-relief",
   "metadata": {},
   "outputs": [
    {
     "name": "stdout",
     "output_type": "stream",
     "text": [
      "True\n",
      "False\n"
     ]
    }
   ],
   "source": [
    "y = x = 3\n",
    "\n",
    "print(x is y)\n",
    "# True\n",
    "\n",
    "print([3] is [3])\n",
    "# False"
   ]
  },
  {
   "cell_type": "markdown",
   "id": "chicken-zimbabwe",
   "metadata": {},
   "source": [
    "If we create two lists — even if they contain the same elements — they still refer to two different list objects in memory.\n",
    "\n",
    "Modifying one list object does not affect the other list object. We say that lists are `mutable` because you can modify them after creation. Therefore, if we check whether one list refers to the same object in memory, the result is `False`. \n",
    "\n",
    "However, integer values are `immutable`, so there is no risk of one variable changing the object that will then accidentally change all other variables. The reason is that we cannot change the integer object — trying it will only create a new integer object and leave the old one unmodified."
   ]
  },
  {
   "cell_type": "markdown",
   "id": "neural-tampa",
   "metadata": {},
   "source": [
    "#### Adding Elements"
   ]
  },
  {
   "cell_type": "markdown",
   "id": "bridal-importance",
   "metadata": {},
   "source": [
    "Python provides three common ways to add elements to an existing list: `append`, `insert`, or  `list concatenation`."
   ]
  },
  {
   "cell_type": "code",
   "execution_count": 12,
   "id": "viral-comparison",
   "metadata": {},
   "outputs": [
    {
     "name": "stdout",
     "output_type": "stream",
     "text": [
      "[1, 2, 2, 4]\n"
     ]
    }
   ],
   "source": [
    "# 1. Append\n",
    "l = [1, 2, 2]\n",
    "l.append(4)\n",
    "print(l)\n",
    "# [1, 2, 2, 4]"
   ]
  },
  {
   "cell_type": "code",
   "execution_count": 13,
   "id": "surprising-internship",
   "metadata": {},
   "outputs": [
    {
     "name": "stdout",
     "output_type": "stream",
     "text": [
      "[1, 2, 3, 4]\n"
     ]
    }
   ],
   "source": [
    "# 2. Insert\n",
    "l = [1, 2, 4]\n",
    "l.insert(2, 3)\n",
    "print(l)\n",
    "# [1, 2, 3, 4]"
   ]
  },
  {
   "cell_type": "code",
   "execution_count": 14,
   "id": "attended-helicopter",
   "metadata": {},
   "outputs": [
    {
     "name": "stdout",
     "output_type": "stream",
     "text": [
      "[1, 2, 2, 4]\n"
     ]
    }
   ],
   "source": [
    "# 3. List Concatenation\n",
    "print([1, 2, 2] + [4])\n",
    "# [1, 2, 2, 4]"
   ]
  },
  {
   "cell_type": "markdown",
   "id": "minus-cornell",
   "metadata": {},
   "source": [
    "All three operations generate the same list [1, 2, 2, 4]. However the `append` operation is the fastest because it neither has to traverse the list to insert an element at the correct position (as with `insert`), nor create a new list out of two sublists (as with `list concatenation`). \n",
    "\n",
    "We use the insert operation only if we want to add an element at a specific position in the list that is not the last position. And we use the list concatenation operation to concatenate two lists of arbitrary length. \n",
    "\n",
    "Note that a fourth method, `extend()`, allows us to append multiple elements to the given list in an efficient manner."
   ]
  },
  {
   "cell_type": "markdown",
   "id": "recreational-steal",
   "metadata": {},
   "source": [
    "#### Removing Elements"
   ]
  },
  {
   "cell_type": "markdown",
   "id": "genuine-minute",
   "metadata": {},
   "source": [
    "We can easily remove an element `x` from a `list` by using the list method `remove(x)`."
   ]
  },
  {
   "cell_type": "code",
   "execution_count": 15,
   "id": "forward-blame",
   "metadata": {},
   "outputs": [
    {
     "name": "stdout",
     "output_type": "stream",
     "text": [
      "[2, 2, 4]\n"
     ]
    }
   ],
   "source": [
    "l = [1, 2, 2, 4]\n",
    "l.remove(1)\n",
    "print(l)\n",
    "# [2, 2, 4]"
   ]
  },
  {
   "cell_type": "markdown",
   "id": "welcome-costume",
   "metadata": {},
   "source": [
    "The method operates on the list object itself, rather than creating a new list with the changes made. Here we create a list object named `l` and modify this exact object in memory by removing an element. This saves memory overhead by reducing redundant copies of the same list data."
   ]
  },
  {
   "cell_type": "markdown",
   "id": "unlike-baking",
   "metadata": {},
   "source": [
    "#### Reversing Lists"
   ]
  },
  {
   "cell_type": "markdown",
   "id": "saved-asbestos",
   "metadata": {},
   "source": [
    "You can reverse the order of list elements by using the method `list.reverse()`"
   ]
  },
  {
   "cell_type": "code",
   "execution_count": 16,
   "id": "religious-steam",
   "metadata": {},
   "outputs": [
    {
     "name": "stdout",
     "output_type": "stream",
     "text": [
      "[4, 2, 2, 1]\n"
     ]
    }
   ],
   "source": [
    "l = [1, 2, 2, 4]\n",
    "l.reverse()\n",
    "print(l)\n",
    "# [4, 2, 2, 1]"
   ]
  },
  {
   "cell_type": "markdown",
   "id": "latin-judgment",
   "metadata": {},
   "source": [
    "Reversing the list also modifies the original list object and does not merely create a new list object."
   ]
  },
  {
   "cell_type": "markdown",
   "id": "played-lithuania",
   "metadata": {},
   "source": [
    "#### Sorting Lists"
   ]
  },
  {
   "cell_type": "markdown",
   "id": "freelance-insert",
   "metadata": {},
   "source": [
    "We can sort `list` elements by using the method `list.sort()`"
   ]
  },
  {
   "cell_type": "code",
   "execution_count": 18,
   "id": "entire-webmaster",
   "metadata": {},
   "outputs": [
    {
     "name": "stdout",
     "output_type": "stream",
     "text": [
      "[1, 2, 2, 4]\n"
     ]
    }
   ],
   "source": [
    "l = [2, 1, 4, 2]\n",
    "l.sort()\n",
    "print(l)\n",
    "# [1, 2, 2, 4]"
   ]
  },
  {
   "cell_type": "markdown",
   "id": "innovative-denmark",
   "metadata": {},
   "source": [
    "Again, sorting the list modifies the original list object. The resulting list is sorted in an ascending manner. Lists containing string objects would be sorted in an ascending lexicographical manner (from `'a'` to `'z'`). \n",
    "\n",
    "In general, the sorting function assumes that two objects can be compared. If we can calculate `a > b` for objects `a` and `b` of any data type, Python can also sort the list `[a, b]`."
   ]
  },
  {
   "cell_type": "markdown",
   "id": "permanent-thousand",
   "metadata": {},
   "source": [
    "#### Indexing List Elements"
   ]
  },
  {
   "cell_type": "markdown",
   "id": "parental-motivation",
   "metadata": {},
   "source": [
    "We can find out the index of a specified list element `x` by using the method `list.index(x)`"
   ]
  },
  {
   "cell_type": "code",
   "execution_count": 19,
   "id": "nasty-assessment",
   "metadata": {},
   "outputs": [
    {
     "name": "stdout",
     "output_type": "stream",
     "text": [
      "0\n",
      "1\n"
     ]
    }
   ],
   "source": [
    "print([2, 2, 4].index(2))\n",
    "# 0\n",
    "\n",
    "print([2, 2, 4].index(2,1))\n",
    "# 1"
   ]
  },
  {
   "cell_type": "markdown",
   "id": "introductory-anthropology",
   "metadata": {},
   "source": [
    "The method `index(x)` finds the first occurrence of the element `x` in the list and returns its index. Like other major programming languages, Python assigns index 0 to the first sequence and index `i–1` to the `i-th` sequence."
   ]
  },
  {
   "cell_type": "code",
   "execution_count": null,
   "id": "monthly-exhibition",
   "metadata": {},
   "outputs": [],
   "source": []
  }
 ],
 "metadata": {
  "kernelspec": {
   "display_name": "Python 3",
   "language": "python",
   "name": "python3"
  },
  "language_info": {
   "codemirror_mode": {
    "name": "ipython",
    "version": 3
   },
   "file_extension": ".py",
   "mimetype": "text/x-python",
   "name": "python",
   "nbconvert_exporter": "python",
   "pygments_lexer": "ipython3",
   "version": "3.7.3"
  }
 },
 "nbformat": 4,
 "nbformat_minor": 5
}
