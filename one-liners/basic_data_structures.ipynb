{
 "cells": [
  {
   "cell_type": "markdown",
   "id": "cooked-broadcast",
   "metadata": {},
   "source": [
    "#### Knowledge Sharing Content\n",
    "# <center> Basic Data Structures - Python\n",
    "#### [Bhanu Pratap Singh](https://www.linkedin.com/in/bpst/)"
   ]
  },
  {
   "cell_type": "markdown",
   "id": "bored-contribution",
   "metadata": {},
   "source": [
    "## Numerical Data Types"
   ]
  },
  {
   "cell_type": "markdown",
   "id": "educational-sympathy",
   "metadata": {},
   "source": [
    "The two most important numerical data types are the `integer` and `float`. An `integer` is a positive or negative number without a floating point (for example, 5). A `float` is a positive or negative number with floating-point precision (for example, 3.14159265359). Python offers a wide variety of built-in numerical operations, as well as functionality to convert between those numerical data types."
   ]
  },
  {
   "cell_type": "code",
   "execution_count": 1,
   "id": "finite-activity",
   "metadata": {},
   "outputs": [
    {
     "name": "stdout",
     "output_type": "stream",
     "text": [
      "5\n",
      "1\n",
      "6\n",
      "1.5\n",
      "1\n",
      "1\n",
      "-3\n",
      "3\n",
      "3\n",
      "3.0\n",
      "9\n"
     ]
    }
   ],
   "source": [
    "# Arithmetic Operations\n",
    "x, y = 3, 2\n",
    "print(x + y) # = 5\n",
    "print(x - y) # = 1\n",
    "print(x * y) # = 6\n",
    "print(x / y) # = 1.5\n",
    "print(x // y) # = 1\n",
    "print(x % y) # = 1\n",
    "print(-x) # = -3\n",
    "print(abs(-x)) # = 3\n",
    "print(int(3.9)) # = 3\n",
    "print(float(x)) # = 3.0\n",
    "print(x ** y) # = 9"
   ]
  },
  {
   "cell_type": "markdown",
   "id": "correct-nancy",
   "metadata": {},
   "source": [
    "Note that the `//` operator performs integer division. The result is an integer value that is rounded down (for example, 3 // 2 == 1)"
   ]
  },
  {
   "cell_type": "markdown",
   "id": "engaging-advocate",
   "metadata": {},
   "source": [
    "## Booleans"
   ]
  },
  {
   "cell_type": "markdown",
   "id": "stable-deviation",
   "metadata": {},
   "source": [
    "A variable of type Boolean can take only two values—either False or True.\n",
    "\n",
    "In Python, Boolean and integer data types are closely related: the Boolean data type internally uses integer values (by default, the Boolean value False is represented by integer 0, and the Boolean value True is represented by integer 1)."
   ]
  },
  {
   "cell_type": "code",
   "execution_count": 3,
   "id": "extended-arrest",
   "metadata": {},
   "outputs": [
    {
     "name": "stdout",
     "output_type": "stream",
     "text": [
      "False\n",
      "True\n"
     ]
    }
   ],
   "source": [
    "x = 1 > 2\n",
    "print(x) # False\n",
    "\n",
    "y = 2 > 1\n",
    "print(y) # True"
   ]
  },
  {
   "cell_type": "markdown",
   "id": "fifteen-focus",
   "metadata": {},
   "source": [
    "After evaluating the given expressions, variable x refers to the Boolean value False, and variable y refers to the Boolean value True."
   ]
  },
  {
   "cell_type": "markdown",
   "id": "secure-cocktail",
   "metadata": {},
   "source": [
    "#### Keywords: and, or, not"
   ]
  },
  {
   "cell_type": "markdown",
   "id": "nonprofit-costume",
   "metadata": {},
   "source": [
    "Boolean expressions represent basic logical operators. Using them in combination with only the following three keywords, we can craft a wide variety of potentially complicated expressions:\n",
    "\n",
    "<b>`and`</b> - the expression `x and y` evaluates to `True` if value `x` is `True` <b><i>and</b></i> value `y` is `True`. If either of those is `False`, the overall expression becomes `False` too.\n",
    "\n",
    "<b>`or`</b> - the expression `x or y` evaluates to `True` if value `x` is `True` <b><i>or</b></i> value `y` is `True` (or both values are `True`). If even just one of those is `True`, the overall expression becomes `True` too.\n",
    "\n",
    "<b>`not`</b> - the expression `not x` evaluates to `True` if value `x` is `False`. Otherwise, the expression evaluates to `False`."
   ]
  },
  {
   "cell_type": "code",
   "execution_count": 4,
   "id": "federal-miami",
   "metadata": {},
   "outputs": [
    {
     "name": "stdout",
     "output_type": "stream",
     "text": [
      "True\n",
      "True\n",
      "True\n"
     ]
    }
   ],
   "source": [
    "x, y = True, False\n",
    "\n",
    "print((x or y) == True)# True\n",
    "print((x and y) == False) # True\n",
    "print((not y) == True) # True"
   ]
  },
  {
   "cell_type": "markdown",
   "id": "guilty-mambo",
   "metadata": {},
   "source": [
    "#### Boolean Operator Precedence"
   ]
  },
  {
   "cell_type": "markdown",
   "id": "particular-begin",
   "metadata": {},
   "source": [
    "The order that Boolean operators are applied is an important aspect of understanding Boolean logic. For example, consider the natural language statement `it rains and it's cold or windy`. We can interpret this in two ways:\n",
    "\n",
    "* `(it rains and it's cold) or windy` In this case, the statement would be `True` if it is windy — even if it doesn’t rain.\n",
    "\n",
    "* `it rains and (it's cold or windy)` In this case, however, the statement would be `False` if it doesn’t rain — no matter whether it’s cold or windy.\n",
    "\n",
    "The order of Boolean operators matters. The correct interpretation of this statement would be the first one because the and operator takes precedence before the or operator. "
   ]
  },
  {
   "cell_type": "code",
   "execution_count": 5,
   "id": "fresh-rebel",
   "metadata": {},
   "outputs": [
    {
     "name": "stdout",
     "output_type": "stream",
     "text": [
      "True\n",
      "True\n"
     ]
    }
   ],
   "source": [
    "# Boolean Operations\n",
    "x, y = True, False\n",
    "\n",
    "print(x and not y) # True\n",
    "print(not x and y or x) # True"
   ]
  },
  {
   "cell_type": "code",
   "execution_count": 6,
   "id": "martial-senegal",
   "metadata": {},
   "outputs": [],
   "source": [
    "# If condition evaluates to False\n",
    "if None or 0 or 0.0 or '' or [] or {} or set():\n",
    "    print(\"Dead code\") # Not reached"
   ]
  },
  {
   "cell_type": "markdown",
   "id": "based-harmony",
   "metadata": {},
   "source": [
    "This code shows two important points. \n",
    "* First, Boolean operators are ordered by priority — the operator not has the highest priority, followed by the operator and, followed by the operator or. \n",
    "* Second, the following values are automatically evaluated to False: the keyword None, the integer value 0, the float value 0.0, empty strings, or empty container types."
   ]
  },
  {
   "cell_type": "markdown",
   "id": "fourth-picking",
   "metadata": {},
   "source": [
    "## Strings"
   ]
  },
  {
   "cell_type": "markdown",
   "id": "sudden-african",
   "metadata": {},
   "source": [
    "Python strings are sequences of characters. Strings are immutable and so cannot be changed after creation. While other ways to create strings exist, these are the five most commonly used:\n",
    "\n",
    "**Single quotes** `'Yes'`\n",
    "\n",
    "**Double quotes** `\"Yes\"`\n",
    "\n",
    "**Triple quotes for multiline strings** `'''Yes''' or \"\"\"Yes\"\"\"`\n",
    "\n",
    "**The string method** `str(5) == '5' is True`\n",
    "\n",
    "**Concatenation** `'Py' + 'thon' becomes 'Python'`\n",
    "\n",
    "Often, we explicitly want to use whitespace characters in strings. The most frequently used whitespace characters are the newline character `\\n`, the space character `\\s`, and the tab character `\\t`."
   ]
  },
  {
   "cell_type": "code",
   "execution_count": 7,
   "id": "graduate-wireless",
   "metadata": {},
   "outputs": [
    {
     "name": "stdout",
     "output_type": "stream",
     "text": [
      "This is lazy\n",
      "drdre\n",
      "ATTENTION\n",
      "True\n",
      "True\n",
      "2\n",
      "meat\n",
      "F,B,I\n",
      "15\n",
      "True\n"
     ]
    }
   ],
   "source": [
    "# Most Important String Methods\n",
    "y = \"    This is lazy\\t\\n   \"\n",
    "\n",
    "print(y.strip())\n",
    "# Remove Whitespace: 'This is lazy'\n",
    "\n",
    "print(\"DrDre\".lower())\n",
    "# Lowercase: 'drdre'\n",
    "\n",
    "print(\"attention\".upper())\n",
    "# Uppercase: 'ATTENTION'\n",
    "\n",
    "print(\"smartphone\".startswith(\"smart\"))\n",
    "# Matches the string's prefix against the argument: True\n",
    "\n",
    "print(\"smartphone\".endswith(\"phone\"))\n",
    "# Matches the string's suffix against the argument: True\n",
    "\n",
    "print(\"another\".find(\"other\"))\n",
    "# Match index: 2\n",
    "\n",
    "print(\"cheat\".replace(\"ch\", \"m\"))\n",
    "# Replaces all occurrences of the first by the second argument: meat\n",
    "\n",
    "print(','.join([\"F\", \"B\", \"I\"]))\n",
    "# Glues together all elements in the list using the separator string: F,B,I\n",
    "\n",
    "print(len(\"Rumpelstiltskin\"))\n",
    "# String length: 15\n",
    "\n",
    "print(\"ear\" in \"earth\")\n",
    "# Contains: True"
   ]
  },
  {
   "cell_type": "markdown",
   "id": "electrical-complex",
   "metadata": {},
   "source": [
    "This non-exclusive list of string methods shows that the string data type is powerful, and we can solve many common string problems with built-in Python functionality.\n",
    "\n",
    "To know more about built-in string methods [click here](https://docs.python.org/3/library/string.html#module-string)"
   ]
  },
  {
   "cell_type": "markdown",
   "id": "massive-director",
   "metadata": {},
   "source": [
    "#### The Keyword None"
   ]
  },
  {
   "cell_type": "markdown",
   "id": "arctic-border",
   "metadata": {},
   "source": [
    "The keyword `None` is a Python constant and it means `the absence of a value`. Other programming languages such as Java use the value `null` instead. However, the term `null` often confuses beginners, who assume it’s equal to the integer value `0`.\n",
    "\n",
    "Instead, Python uses the keyword `None`, to indicate that it’s different from any numerical value for zero, an empty list, or an empty string. \n",
    "\n",
    "An interesting fact is that the value `None` is the only value in the `NoneType` data type."
   ]
  },
  {
   "cell_type": "code",
   "execution_count": 9,
   "id": "better-gilbert",
   "metadata": {},
   "outputs": [
    {
     "name": "stdout",
     "output_type": "stream",
     "text": [
      "True\n",
      "False\n",
      "False\n"
     ]
    }
   ],
   "source": [
    "def f():\n",
    "   x = 2\n",
    "\n",
    "print(f() is None)\n",
    "# True\n",
    "\n",
    "print(\"\" == None)\n",
    "# False\n",
    "\n",
    "print(0 == None)\n",
    "# False"
   ]
  },
  {
   "cell_type": "markdown",
   "id": "brilliant-agenda",
   "metadata": {},
   "source": [
    "This code shows several examples of the `None` data value (and what it is not). If we don’t define a return value for a function, the default return value is `None`."
   ]
  },
  {
   "cell_type": "markdown",
   "id": "fatty-print",
   "metadata": {},
   "source": [
    "## Container Data Structures"
   ]
  },
  {
   "cell_type": "markdown",
   "id": "completed-withdrawal",
   "metadata": {},
   "source": [
    "### Lists"
   ]
  },
  {
   "cell_type": "markdown",
   "id": "lovely-salmon",
   "metadata": {},
   "source": [
    "The `list` is a container data type that stores a sequence of elements. Unlike strings, lists are `mutable` — we can modify them at runtime."
   ]
  },
  {
   "cell_type": "code",
   "execution_count": 10,
   "id": "sitting-philosophy",
   "metadata": {},
   "outputs": [
    {
     "name": "stdout",
     "output_type": "stream",
     "text": [
      "3\n"
     ]
    }
   ],
   "source": [
    "l = [1, 2, 2]\n",
    "print(len(l))\n",
    "# 3"
   ]
  },
  {
   "cell_type": "markdown",
   "id": "split-extreme",
   "metadata": {},
   "source": [
    "This code snippet shows how to create a list by using square brackets and how to populate it with three integer elements. We can also see that lists can have repeated elements. The `len()` function returns the number of elements in a list."
   ]
  },
  {
   "cell_type": "markdown",
   "id": "entire-disaster",
   "metadata": {},
   "source": [
    "#### Keyword: is"
   ]
  },
  {
   "cell_type": "markdown",
   "id": "unnecessary-sector",
   "metadata": {},
   "source": [
    "The keyword `is` simply checks whether both variables refer to the same object in memory. \n",
    "\n",
    "Let's checks whether two integers and two lists refer to the same object in memory."
   ]
  },
  {
   "cell_type": "code",
   "execution_count": 11,
   "id": "incomplete-relief",
   "metadata": {},
   "outputs": [
    {
     "name": "stdout",
     "output_type": "stream",
     "text": [
      "True\n",
      "False\n"
     ]
    }
   ],
   "source": [
    "y = x = 3\n",
    "\n",
    "print(x is y)\n",
    "# True\n",
    "\n",
    "print([3] is [3])\n",
    "# False"
   ]
  },
  {
   "cell_type": "markdown",
   "id": "chicken-zimbabwe",
   "metadata": {},
   "source": [
    "If we create two lists — even if they contain the same elements — they still refer to two different list objects in memory.\n",
    "\n",
    "Modifying one list object does not affect the other list object. We say that lists are `mutable` because you can modify them after creation. Therefore, if we check whether one list refers to the same object in memory, the result is `False`. \n",
    "\n",
    "However, integer values are `immutable`, so there is no risk of one variable changing the object that will then accidentally change all other variables. The reason is that we cannot change the integer object — trying it will only create a new integer object and leave the old one unmodified."
   ]
  },
  {
   "cell_type": "markdown",
   "id": "neural-tampa",
   "metadata": {},
   "source": [
    "#### Adding Elements"
   ]
  },
  {
   "cell_type": "markdown",
   "id": "bridal-importance",
   "metadata": {},
   "source": [
    "Python provides three common ways to add elements to an existing list: `append`, `insert`, or  `list concatenation`."
   ]
  },
  {
   "cell_type": "code",
   "execution_count": 12,
   "id": "viral-comparison",
   "metadata": {},
   "outputs": [
    {
     "name": "stdout",
     "output_type": "stream",
     "text": [
      "[1, 2, 2, 4]\n"
     ]
    }
   ],
   "source": [
    "# 1. Append\n",
    "l = [1, 2, 2]\n",
    "l.append(4)\n",
    "print(l)\n",
    "# [1, 2, 2, 4]"
   ]
  },
  {
   "cell_type": "code",
   "execution_count": 13,
   "id": "surprising-internship",
   "metadata": {},
   "outputs": [
    {
     "name": "stdout",
     "output_type": "stream",
     "text": [
      "[1, 2, 3, 4]\n"
     ]
    }
   ],
   "source": [
    "# 2. Insert\n",
    "l = [1, 2, 4]\n",
    "l.insert(2, 3)\n",
    "print(l)\n",
    "# [1, 2, 3, 4]"
   ]
  },
  {
   "cell_type": "code",
   "execution_count": 14,
   "id": "attended-helicopter",
   "metadata": {},
   "outputs": [
    {
     "name": "stdout",
     "output_type": "stream",
     "text": [
      "[1, 2, 2, 4]\n"
     ]
    }
   ],
   "source": [
    "# 3. List Concatenation\n",
    "print([1, 2, 2] + [4])\n",
    "# [1, 2, 2, 4]"
   ]
  },
  {
   "cell_type": "markdown",
   "id": "minus-cornell",
   "metadata": {},
   "source": [
    "All three operations generate the same list [1, 2, 2, 4]. However the `append` operation is the fastest because it neither has to traverse the list to insert an element at the correct position (as with `insert`), nor create a new list out of two sublists (as with `list concatenation`). \n",
    "\n",
    "We use the insert operation only if we want to add an element at a specific position in the list that is not the last position. And we use the list concatenation operation to concatenate two lists of arbitrary length. \n",
    "\n",
    "Note that a fourth method, `extend()`, allows us to append multiple elements to the given list in an efficient manner."
   ]
  },
  {
   "cell_type": "markdown",
   "id": "recreational-steal",
   "metadata": {},
   "source": [
    "#### Removing Elements"
   ]
  },
  {
   "cell_type": "markdown",
   "id": "genuine-minute",
   "metadata": {},
   "source": [
    "We can easily remove an element `x` from a `list` by using the list method `remove(x)`."
   ]
  },
  {
   "cell_type": "code",
   "execution_count": 15,
   "id": "forward-blame",
   "metadata": {},
   "outputs": [
    {
     "name": "stdout",
     "output_type": "stream",
     "text": [
      "[2, 2, 4]\n"
     ]
    }
   ],
   "source": [
    "l = [1, 2, 2, 4]\n",
    "l.remove(1)\n",
    "print(l)\n",
    "# [2, 2, 4]"
   ]
  },
  {
   "cell_type": "markdown",
   "id": "welcome-costume",
   "metadata": {},
   "source": [
    "The method operates on the list object itself, rather than creating a new list with the changes made. Here we create a list object named `l` and modify this exact object in memory by removing an element. This saves memory overhead by reducing redundant copies of the same list data."
   ]
  },
  {
   "cell_type": "markdown",
   "id": "unlike-baking",
   "metadata": {},
   "source": [
    "#### Reversing Lists"
   ]
  },
  {
   "cell_type": "markdown",
   "id": "saved-asbestos",
   "metadata": {},
   "source": [
    "You can reverse the order of list elements by using the method `list.reverse()`"
   ]
  },
  {
   "cell_type": "code",
   "execution_count": 16,
   "id": "religious-steam",
   "metadata": {},
   "outputs": [
    {
     "name": "stdout",
     "output_type": "stream",
     "text": [
      "[4, 2, 2, 1]\n"
     ]
    }
   ],
   "source": [
    "l = [1, 2, 2, 4]\n",
    "l.reverse()\n",
    "print(l)\n",
    "# [4, 2, 2, 1]"
   ]
  },
  {
   "cell_type": "markdown",
   "id": "latin-judgment",
   "metadata": {},
   "source": [
    "Reversing the list also modifies the original list object and does not merely create a new list object."
   ]
  },
  {
   "cell_type": "markdown",
   "id": "played-lithuania",
   "metadata": {},
   "source": [
    "#### Sorting Lists"
   ]
  },
  {
   "cell_type": "markdown",
   "id": "freelance-insert",
   "metadata": {},
   "source": [
    "We can sort `list` elements by using the method `list.sort()`"
   ]
  },
  {
   "cell_type": "code",
   "execution_count": 18,
   "id": "entire-webmaster",
   "metadata": {},
   "outputs": [
    {
     "name": "stdout",
     "output_type": "stream",
     "text": [
      "[1, 2, 2, 4]\n"
     ]
    }
   ],
   "source": [
    "l = [2, 1, 4, 2]\n",
    "l.sort()\n",
    "print(l)\n",
    "# [1, 2, 2, 4]"
   ]
  },
  {
   "cell_type": "markdown",
   "id": "innovative-denmark",
   "metadata": {},
   "source": [
    "Again, sorting the list modifies the original list object. The resulting list is sorted in an ascending manner. Lists containing string objects would be sorted in an ascending lexicographical manner (from `'a'` to `'z'`). \n",
    "\n",
    "In general, the sorting function assumes that two objects can be compared. If we can calculate `a > b` for objects `a` and `b` of any data type, Python can also sort the list `[a, b]`."
   ]
  },
  {
   "cell_type": "markdown",
   "id": "permanent-thousand",
   "metadata": {},
   "source": [
    "#### Indexing List Elements"
   ]
  },
  {
   "cell_type": "markdown",
   "id": "parental-motivation",
   "metadata": {},
   "source": [
    "We can find out the index of a specified list element `x` by using the method `list.index(x)`"
   ]
  },
  {
   "cell_type": "code",
   "execution_count": 19,
   "id": "nasty-assessment",
   "metadata": {},
   "outputs": [
    {
     "name": "stdout",
     "output_type": "stream",
     "text": [
      "0\n",
      "1\n"
     ]
    }
   ],
   "source": [
    "print([2, 2, 4].index(2))\n",
    "# 0\n",
    "\n",
    "print([2, 2, 4].index(2,1))\n",
    "# 1"
   ]
  },
  {
   "cell_type": "markdown",
   "id": "introductory-anthropology",
   "metadata": {},
   "source": [
    "The method `index(x)` finds the first occurrence of the element `x` in the list and returns its index. Like other major programming languages, Python assigns index 0 to the first sequence and index `i–1` to the `i-th` sequence."
   ]
  },
  {
   "cell_type": "markdown",
   "id": "governing-solomon",
   "metadata": {},
   "source": [
    "### Dictionaries\n",
    "The `dictionary` is a useful data structure for storing (key, value) pairs, here is one simple example"
   ]
  },
  {
   "cell_type": "code",
   "execution_count": 2,
   "id": "massive-slope",
   "metadata": {},
   "outputs": [
    {
     "data": {
      "text/plain": [
       "{'apple': 52, 'banana': 89, 'choco': 546}"
      ]
     },
     "execution_count": 2,
     "metadata": {},
     "output_type": "execute_result"
    }
   ],
   "source": [
    "# Dictionary\n",
    "calories = {'apple' : 52, 'banana' : 89, 'choco' : 546}\n",
    "calories"
   ]
  },
  {
   "cell_type": "markdown",
   "id": "painful-skating",
   "metadata": {},
   "source": [
    "we can read and write elements by specifying the key within brackets"
   ]
  },
  {
   "cell_type": "code",
   "execution_count": 3,
   "id": "intended-hormone",
   "metadata": {},
   "outputs": [
    {
     "name": "stdout",
     "output_type": "stream",
     "text": [
      "True\n"
     ]
    }
   ],
   "source": [
    "# Comparison\n",
    "print(calories['apple'] < calories['choco'])"
   ]
  },
  {
   "cell_type": "code",
   "execution_count": 4,
   "id": "royal-weather",
   "metadata": {},
   "outputs": [
    {
     "data": {
      "text/plain": [
       "{'apple': 52, 'banana': 89, 'choco': 546, 'cappu': 74}"
      ]
     },
     "execution_count": 4,
     "metadata": {},
     "output_type": "execute_result"
    }
   ],
   "source": [
    "# Add new key to dictionary\n",
    "calories['cappu'] = 74\n",
    "calories"
   ]
  },
  {
   "cell_type": "code",
   "execution_count": 5,
   "id": "endless-australian",
   "metadata": {},
   "outputs": [
    {
     "name": "stdout",
     "output_type": "stream",
     "text": [
      "False\n"
     ]
    }
   ],
   "source": [
    "# Comparison\n",
    "print(calories['banana'] < calories['cappu'])"
   ]
  },
  {
   "cell_type": "markdown",
   "id": "decent-study",
   "metadata": {},
   "source": [
    "Use the `keys()` and `values()` functions to access all keys and values of the dictionary"
   ]
  },
  {
   "cell_type": "code",
   "execution_count": 6,
   "id": "engaged-coordinate",
   "metadata": {},
   "outputs": [
    {
     "name": "stdout",
     "output_type": "stream",
     "text": [
      "True\n"
     ]
    }
   ],
   "source": [
    "# Using key\n",
    "print('apple' in calories.keys())"
   ]
  },
  {
   "cell_type": "code",
   "execution_count": 7,
   "id": "medieval-wrapping",
   "metadata": {},
   "outputs": [
    {
     "name": "stdout",
     "output_type": "stream",
     "text": [
      "True\n"
     ]
    }
   ],
   "source": [
    "# Using value\n",
    "print(52 in calories.values())"
   ]
  },
  {
   "cell_type": "markdown",
   "id": "agreed-durham",
   "metadata": {},
   "source": [
    "Access the `(key, value)` pairs of a dictionary with the `items()` method"
   ]
  },
  {
   "cell_type": "code",
   "execution_count": 8,
   "id": "copyrighted-kuwait",
   "metadata": {},
   "outputs": [
    {
     "name": "stdout",
     "output_type": "stream",
     "text": [
      "choco\n"
     ]
    }
   ],
   "source": [
    "for k, v in calories.items():\n",
    "    print(k) if v > 500 else None"
   ]
  },
  {
   "cell_type": "markdown",
   "id": "informal-certificate",
   "metadata": {},
   "source": [
    "#### Membership\n",
    "Use the keyword **`in`** to check whether the set, list, or dictionary contains an element "
   ]
  },
  {
   "cell_type": "code",
   "execution_count": 9,
   "id": "previous-exhibit",
   "metadata": {},
   "outputs": [
    {
     "name": "stdout",
     "output_type": "stream",
     "text": [
      "True\n"
     ]
    }
   ],
   "source": [
    "print(42 in [2, 39, 42])"
   ]
  },
  {
   "cell_type": "code",
   "execution_count": 10,
   "id": "coral-purpose",
   "metadata": {},
   "outputs": [
    {
     "name": "stdout",
     "output_type": "stream",
     "text": [
      "False\n"
     ]
    }
   ],
   "source": [
    "print(\"21\" in {\"2\", \"39\", \"42\"})"
   ]
  },
  {
   "cell_type": "code",
   "execution_count": 11,
   "id": "controlling-payday",
   "metadata": {},
   "outputs": [
    {
     "name": "stdout",
     "output_type": "stream",
     "text": [
      "True\n"
     ]
    }
   ],
   "source": [
    "print(\"list\" in {\"list\" : [1, 2, 3], \"set\" : {1,2,3}})"
   ]
  },
  {
   "cell_type": "markdown",
   "id": "tight-merchandise",
   "metadata": {},
   "source": [
    "We say **x** is a member of **y** if element **x** appears in the collection **y**.\n",
    "\n",
    "Checking set membership is faster than checking list membership: to check whether element x appears in list y, we need to traverse the whole list until we find x or have checked all elements. However, sets are implemented much like dictionaries: to check whether element x appears in set y, Python internally performs one operation y[hash(x)] and checks whether the return value is not `None`."
   ]
  },
  {
   "cell_type": "markdown",
   "id": "massive-muscle",
   "metadata": {},
   "source": [
    "### List and Set Comprehension"
   ]
  },
  {
   "cell_type": "markdown",
   "id": "fitted-happiness",
   "metadata": {},
   "source": [
    "List comprehension is a popular Python feature that helps you quickly create and modify lists. \n",
    "\n",
    "The simple formula is **[ expression + context ]**\n",
    "\n",
    "**Expression** tells Python what to do with each element in the list.\n",
    "\n",
    "**Context** tells Python which list elements to select. The context consists of an arbitrary number of for and if statements.\n",
    "\n",
    "For example, in the list comprehension statement below,"
   ]
  },
  {
   "cell_type": "code",
   "execution_count": 12,
   "id": "formed-lingerie",
   "metadata": {},
   "outputs": [
    {
     "data": {
      "text/plain": [
       "[0, 1, 2]"
      ]
     },
     "execution_count": 12,
     "metadata": {},
     "output_type": "execute_result"
    }
   ],
   "source": [
    "[x for x in range(3)]"
   ]
  },
  {
   "cell_type": "markdown",
   "id": "functioning-exchange",
   "metadata": {},
   "source": [
    "first part `x` is the expression, and the second part for `x in range(3)` is the context. The statement creates the list [0, 1, 2]. The `range()` function returns a range of subsequent integer values 0, 1, and 2 - when used with one argument as in the example above.\n",
    "\n",
    "Let's see another good code example for list comprehension"
   ]
  },
  {
   "cell_type": "code",
   "execution_count": 13,
   "id": "pressed-analyst",
   "metadata": {},
   "outputs": [
    {
     "name": "stdout",
     "output_type": "stream",
     "text": [
      "['Ann']\n"
     ]
    }
   ],
   "source": [
    "# (name, $-income)\n",
    "customers = [(\"John\", 240000),\n",
    "             (\"Alice\", 120000),\n",
    "             (\"Ann\", 1100000),\n",
    "             (\"Zach\", 44000)]\n",
    "\n",
    "# Our high-value customers earning >$1M\n",
    "whales = [x for x, y in customers if y>1000000]\n",
    "print(whales)"
   ]
  },
  {
   "cell_type": "markdown",
   "id": "eleven-horizon",
   "metadata": {},
   "source": [
    "Set comprehension is like list comprehension, but creates a set rather than a list."
   ]
  },
  {
   "cell_type": "markdown",
   "id": "dying-dressing",
   "metadata": {},
   "source": [
    "## Lambdas"
   ]
  },
  {
   "cell_type": "markdown",
   "id": "printable-river",
   "metadata": {},
   "source": [
    "We use the keyword `lambda` to define lambda functions in Python. Lambda functions are anonymous functions that are not defined in the namespace. They are functions without names, intended for single use.\n",
    "\n",
    "Lambda function syntax \n",
    "\n",
    "**`lambda <arguments> : <return expression>`**\n",
    "\n",
    "A lambda function can have one or multiple arguments, separated by commas. After the colon (:), we define the return expression that may (or may not) use the defined argument. The return expression can be any expression or even another function."
   ]
  },
  {
   "cell_type": "code",
   "execution_count": 14,
   "id": "absolute-factor",
   "metadata": {},
   "outputs": [
    {
     "name": "stdout",
     "output_type": "stream",
     "text": [
      "6\n"
     ]
    }
   ],
   "source": [
    "print((lambda x: x + 3)(3))"
   ]
  },
  {
   "cell_type": "code",
   "execution_count": 16,
   "id": "advanced-shadow",
   "metadata": {},
   "outputs": [
    {
     "name": "stdout",
     "output_type": "stream",
     "text": [
      "6\n"
     ]
    }
   ],
   "source": [
    "func = lambda x: x + 3\n",
    "print(func(3))"
   ]
  },
  {
   "cell_type": "code",
   "execution_count": 17,
   "id": "exact-pledge",
   "metadata": {},
   "outputs": [
    {
     "data": {
      "text/plain": [
       "3"
      ]
     },
     "execution_count": 17,
     "metadata": {},
     "output_type": "execute_result"
    }
   ],
   "source": [
    "# This will not work\n",
    "(3)"
   ]
  },
  {
   "cell_type": "markdown",
   "id": "subsequent-style",
   "metadata": {},
   "source": [
    "First, we create a lambda function that takes a value x and returns the result of the expression x + 3. The result is a function object that can be called like any other function."
   ]
  },
  {
   "cell_type": "markdown",
   "id": "bizarre-violation",
   "metadata": {},
   "source": [
    "## Stacks"
   ]
  },
  {
   "cell_type": "markdown",
   "id": "fallen-matter",
   "metadata": {},
   "source": [
    "The `stack` data structure works intuitively as a first-in, first-out (FIFO) structure.\n",
    "\n",
    "Python lists can be used intuitively as stacks with the list operations `append()` to add to the stack and `pop()` to remove the most recently added item."
   ]
  },
  {
   "cell_type": "code",
   "execution_count": 19,
   "id": "serial-border",
   "metadata": {},
   "outputs": [
    {
     "data": {
      "text/plain": [
       "3"
      ]
     },
     "execution_count": 19,
     "metadata": {},
     "output_type": "execute_result"
    }
   ],
   "source": [
    "stack = [3]\n",
    "stack.append(42) # [3, 42]\n",
    "stack.pop() # 42 (stack: [3])\n",
    "stack.pop() # 3 (stack: [])"
   ]
  },
  {
   "cell_type": "markdown",
   "id": "cognitive-nylon",
   "metadata": {},
   "source": [
    "Because of the efficiency of the list implementation, there is usually no need to import external stack libraries."
   ]
  },
  {
   "cell_type": "markdown",
   "id": "neither-ecology",
   "metadata": {},
   "source": [
    "## Sets"
   ]
  },
  {
   "cell_type": "markdown",
   "id": "front-disposal",
   "metadata": {},
   "source": [
    "The set data structure is a basic collection data type in Python and many other programming languages. Popular languages for distributed computing (for example, MapReduce or Apache Spark) even focus almost exclusively on set operations as programming primitives. So what is a set exactly? A set is an unordered collection of unique elements. Let’s break this definition into its main pieces."
   ]
  },
  {
   "cell_type": "markdown",
   "id": "attempted-independence",
   "metadata": {},
   "source": [
    "### Collection"
   ]
  },
  {
   "cell_type": "markdown",
   "id": "vocational-division",
   "metadata": {},
   "source": [
    "A set is a collection of elements like a list or a tuple. The collection consists of either primitive elements (integers, floats, strings), or complex elements (objects, tuples). \n",
    "\n",
    "However, all data types in a set must be `hashable`, meaning that they have an associated hash value. A hash value of an object never changes and is used to compare the object to other objects. \n",
    "\n",
    "Let’s look at an example, which creates a set from three strings after checking their hash values."
   ]
  },
  {
   "cell_type": "code",
   "execution_count": 21,
   "id": "excess-spanish",
   "metadata": {},
   "outputs": [
    {
     "name": "stdout",
     "output_type": "stream",
     "text": [
      "-9147996449234916283\n",
      "568780430997353507\n",
      "{'Dumbledore', 'Harry', 'Lord V.'}\n"
     ]
    }
   ],
   "source": [
    "hero = \"Harry\"\n",
    "guide = \"Dumbledore\"\n",
    "enemy = \"Lord V.\"\n",
    "print(hash(hero))\n",
    "# 6175908009919104006\n",
    "\n",
    "print(hash(guide))\n",
    "# -5197671124693729851\n",
    "\n",
    "## Can we create a set of strings?\n",
    "characters = {hero, guide, enemy}\n",
    "print(characters)\n",
    "# {'Lord V.', 'Dumbledore', 'Harry'}"
   ]
  },
  {
   "cell_type": "code",
   "execution_count": 22,
   "id": "crazy-justice",
   "metadata": {},
   "outputs": [
    {
     "ename": "TypeError",
     "evalue": "unhashable type: 'list'",
     "output_type": "error",
     "traceback": [
      "\u001b[1;31m---------------------------------------------------------------------------\u001b[0m",
      "\u001b[1;31mTypeError\u001b[0m                                 Traceback (most recent call last)",
      "\u001b[1;32m<ipython-input-22-e8321e1fa152>\u001b[0m in \u001b[0;36m<module>\u001b[1;34m\u001b[0m\n\u001b[0;32m      2\u001b[0m \u001b[0mteam_1\u001b[0m \u001b[1;33m=\u001b[0m \u001b[1;33m[\u001b[0m\u001b[0mhero\u001b[0m\u001b[1;33m,\u001b[0m \u001b[0mguide\u001b[0m\u001b[1;33m]\u001b[0m\u001b[1;33m\u001b[0m\u001b[1;33m\u001b[0m\u001b[0m\n\u001b[0;32m      3\u001b[0m \u001b[0mteam_2\u001b[0m \u001b[1;33m=\u001b[0m \u001b[1;33m[\u001b[0m\u001b[0menemy\u001b[0m\u001b[1;33m]\u001b[0m\u001b[1;33m\u001b[0m\u001b[1;33m\u001b[0m\u001b[0m\n\u001b[1;32m----> 4\u001b[1;33m \u001b[0mteams\u001b[0m \u001b[1;33m=\u001b[0m \u001b[1;33m{\u001b[0m\u001b[0mteam_1\u001b[0m\u001b[1;33m,\u001b[0m \u001b[0mteam_2\u001b[0m\u001b[1;33m}\u001b[0m\u001b[1;33m\u001b[0m\u001b[1;33m\u001b[0m\u001b[0m\n\u001b[0m",
      "\u001b[1;31mTypeError\u001b[0m: unhashable type: 'list'"
     ]
    }
   ],
   "source": [
    "# Can we create a set of lists?\n",
    "team_1 = [hero, guide]\n",
    "team_2 = [enemy]\n",
    "teams = {team_1, team_2}"
   ]
  },
  {
   "cell_type": "markdown",
   "id": "handled-formation",
   "metadata": {},
   "source": [
    "We can not create a set of lists because lists are not hashable.\n",
    "\n",
    "The reason is that the hash value depends on the content of the item, and lists are `mutable`; if we change the list data type, the hash value must change too. Because mutable data types are not hashable, we cannot use them in sets."
   ]
  },
  {
   "cell_type": "markdown",
   "id": "homeless-royal",
   "metadata": {},
   "source": [
    "### Unordered"
   ]
  },
  {
   "cell_type": "markdown",
   "id": "developed-reggae",
   "metadata": {},
   "source": [
    "Unlike lists, elements in a set have no fixed order. Regardless of the order in which we put stuff into the set, we can never be sure in which order the set stores these elements. Here is an example"
   ]
  },
  {
   "cell_type": "code",
   "execution_count": 23,
   "id": "residential-transfer",
   "metadata": {},
   "outputs": [
    {
     "name": "stdout",
     "output_type": "stream",
     "text": [
      "{'Dumbledore', 'Harry', 'Lord V.'}\n"
     ]
    }
   ],
   "source": [
    "characters = {hero, guide, enemy}\n",
    "print(characters)"
   ]
  },
  {
   "cell_type": "markdown",
   "id": "domestic-scientist",
   "metadata": {},
   "source": [
    "I put in the hero first, but my interpreter prints the guide first."
   ]
  },
  {
   "cell_type": "markdown",
   "id": "noted-cincinnati",
   "metadata": {},
   "source": [
    "### Unique"
   ]
  },
  {
   "cell_type": "markdown",
   "id": "altered-samoa",
   "metadata": {},
   "source": [
    "All elements in the set must be unique. Formally, each of two values x, y in the set with x!=y have different hash values hash(x)!=hash(y). Because every two elements x and y in the set are different, we cannot create an army of Harry Potter clones to fight Lord V."
   ]
  },
  {
   "cell_type": "code",
   "execution_count": 25,
   "id": "choice-statement",
   "metadata": {},
   "outputs": [
    {
     "name": "stdout",
     "output_type": "stream",
     "text": [
      "{'Harry', 'Lord V.'}\n"
     ]
    }
   ],
   "source": [
    "clone_army = {hero, hero, hero, hero, hero, enemy}\n",
    "print(clone_army)"
   ]
  },
  {
   "cell_type": "markdown",
   "id": "advanced-event",
   "metadata": {},
   "source": [
    "No matter how often we put the same value into the same set, the set stores only one instance of this value. The reason is that those heroes have the same hash value, and a set contains at most one element per hash value."
   ]
  }
 ],
 "metadata": {
  "kernelspec": {
   "display_name": "Python 3",
   "language": "python",
   "name": "python3"
  },
  "language_info": {
   "codemirror_mode": {
    "name": "ipython",
    "version": 3
   },
   "file_extension": ".py",
   "mimetype": "text/x-python",
   "name": "python",
   "nbconvert_exporter": "python",
   "pygments_lexer": "ipython3",
   "version": "3.7.3"
  }
 },
 "nbformat": 4,
 "nbformat_minor": 5
}
