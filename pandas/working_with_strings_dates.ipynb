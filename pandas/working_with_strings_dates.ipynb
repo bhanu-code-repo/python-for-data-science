{
 "cells": [
  {
   "cell_type": "markdown",
   "id": "adjacent-niger",
   "metadata": {},
   "source": [
    "#### Konwledge Sharing Content\n",
    "\n",
    "<img src=\"https://pandas.pydata.org/static/img/pandas.svg\" width=\"250\">\n",
    "\n",
    "# <center> Strings & Dates\n",
    "\n",
    "#### By - [Bhanu Pratap Singh](https://www.linkedin.com/in/bpst/)"
   ]
  },
  {
   "cell_type": "code",
   "execution_count": 1,
   "id": "cutting-cookbook",
   "metadata": {},
   "outputs": [],
   "source": [
    "# importing packages\n",
    "import pandas as pd"
   ]
  },
  {
   "cell_type": "code",
   "execution_count": 2,
   "id": "oriental-sauce",
   "metadata": {},
   "outputs": [
    {
     "data": {
      "text/plain": [
       "0         Ram, Singh\n",
       "1     Mohan; Payare \n",
       "2        Johan, Cena\n",
       "3       Jingle, Bell\n",
       "4    Yanna, Raskala \n",
       "dtype: object"
      ]
     },
     "execution_count": 2,
     "metadata": {},
     "output_type": "execute_result"
    }
   ],
   "source": [
    "# create string list\n",
    "names = pd.Series(['Ram, Singh', 'Mohan; Payare ', ' Johan, Cena', 'Jingle, Bell', 'Yanna, Raskala '])\n",
    "names"
   ]
  },
  {
   "cell_type": "code",
   "execution_count": 3,
   "id": "married-interim",
   "metadata": {},
   "outputs": [
    {
     "data": {
      "text/plain": [
       "0         Ram, Singh\n",
       "1     Mohan, Payare \n",
       "2        Johan, Cena\n",
       "3       Jingle, Bell\n",
       "4    Yanna, Raskala \n",
       "dtype: object"
      ]
     },
     "execution_count": 3,
     "metadata": {},
     "output_type": "execute_result"
    }
   ],
   "source": [
    "# replace function\n",
    "names = names.str.replace(';', ',')\n",
    "names"
   ]
  },
  {
   "cell_type": "code",
   "execution_count": 4,
   "id": "configured-hollow",
   "metadata": {},
   "outputs": [
    {
     "data": {
      "text/plain": [
       "0    10\n",
       "1    14\n",
       "2    12\n",
       "3    12\n",
       "4    15\n",
       "dtype: int64"
      ]
     },
     "execution_count": 4,
     "metadata": {},
     "output_type": "execute_result"
    }
   ],
   "source": [
    "# find lenght of characters\n",
    "names.str.len()"
   ]
  },
  {
   "cell_type": "code",
   "execution_count": 5,
   "id": "native-yugoslavia",
   "metadata": {},
   "outputs": [
    {
     "data": {
      "text/plain": [
       "0    10\n",
       "1    13\n",
       "2    11\n",
       "3    12\n",
       "4    14\n",
       "dtype: int64"
      ]
     },
     "execution_count": 5,
     "metadata": {},
     "output_type": "execute_result"
    }
   ],
   "source": [
    "# remove leading and trailing spaces\n",
    "names = names.str.strip()\n",
    "names.str.len()"
   ]
  },
  {
   "cell_type": "code",
   "execution_count": 6,
   "id": "connected-notion",
   "metadata": {},
   "outputs": [
    {
     "data": {
      "text/plain": [
       "0        RAM, SINGH\n",
       "1     MOHAN, PAYARE\n",
       "2       JOHAN, CENA\n",
       "3      JINGLE, BELL\n",
       "4    YANNA, RASKALA\n",
       "dtype: object"
      ]
     },
     "execution_count": 6,
     "metadata": {},
     "output_type": "execute_result"
    }
   ],
   "source": [
    "# convert to upper case\n",
    "names = names.str.upper()\n",
    "names"
   ]
  },
  {
   "cell_type": "code",
   "execution_count": 7,
   "id": "tired-moldova",
   "metadata": {},
   "outputs": [
    {
     "data": {
      "text/plain": [
       "0        ram, singh\n",
       "1     mohan, payare\n",
       "2       johan, cena\n",
       "3      jingle, bell\n",
       "4    yanna, raskala\n",
       "dtype: object"
      ]
     },
     "execution_count": 7,
     "metadata": {},
     "output_type": "execute_result"
    }
   ],
   "source": [
    "# convert to lower case\n",
    "names = names.str.lower()\n",
    "names"
   ]
  },
  {
   "cell_type": "markdown",
   "id": "later-medication",
   "metadata": {},
   "source": [
    "##### swap first name with last name"
   ]
  },
  {
   "cell_type": "code",
   "execution_count": 8,
   "id": "fossil-tribe",
   "metadata": {},
   "outputs": [
    {
     "data": {
      "text/plain": [
       "0        [ram, singh]\n",
       "1     [mohan, payare]\n",
       "2       [johan, cena]\n",
       "3      [jingle, bell]\n",
       "4    [yanna, raskala]\n",
       "dtype: object"
      ]
     },
     "execution_count": 8,
     "metadata": {},
     "output_type": "execute_result"
    }
   ],
   "source": [
    "# create tuple of last name and first name\n",
    "names = names.str.split(', ')\n",
    "names"
   ]
  },
  {
   "cell_type": "code",
   "execution_count": 9,
   "id": "shared-patrick",
   "metadata": {},
   "outputs": [
    {
     "data": {
      "text/plain": [
       "0        [singh, ram]\n",
       "1     [payare, mohan]\n",
       "2       [cena, johan]\n",
       "3      [bell, jingle]\n",
       "4    [raskala, yanna]\n",
       "dtype: object"
      ]
     },
     "execution_count": 9,
     "metadata": {},
     "output_type": "execute_result"
    }
   ],
   "source": [
    "# swap order of last name and first name\n",
    "names = pd.Series([i[::-1] for i in names])\n",
    "names"
   ]
  },
  {
   "cell_type": "code",
   "execution_count": 10,
   "id": "interior-bread",
   "metadata": {},
   "outputs": [
    {
     "data": {
      "text/plain": [
       "['singh ram', 'payare mohan', 'cena johan', 'bell jingle', 'raskala yanna']"
      ]
     },
     "execution_count": 10,
     "metadata": {},
     "output_type": "execute_result"
    }
   ],
   "source": [
    "# join back first and last names with space\n",
    "names_with_space = [' '.join(i) for i in names]\n",
    "names_with_space"
   ]
  },
  {
   "cell_type": "code",
   "execution_count": 11,
   "id": "twenty-command",
   "metadata": {},
   "outputs": [
    {
     "data": {
      "text/plain": [
       "['singh, ram',\n",
       " 'payare, mohan',\n",
       " 'cena, johan',\n",
       " 'bell, jingle',\n",
       " 'raskala, yanna']"
      ]
     },
     "execution_count": 11,
     "metadata": {},
     "output_type": "execute_result"
    }
   ],
   "source": [
    "# join back first and last names with comma\n",
    "names_with_comma = [', '.join(i) for i in names]\n",
    "names_with_comma"
   ]
  },
  {
   "cell_type": "markdown",
   "id": "spiritual-friday",
   "metadata": {},
   "source": [
    "## Time Series Data"
   ]
  },
  {
   "cell_type": "markdown",
   "id": "composed-softball",
   "metadata": {},
   "source": [
    "#### explore `period_range()` function -  to generate series of date"
   ]
  },
  {
   "cell_type": "code",
   "execution_count": 12,
   "id": "honey-flooring",
   "metadata": {},
   "outputs": [],
   "source": [
    "# create a data range\n",
    "date_range = pd.period_range('1/5/2021', freq='30d', periods=9)"
   ]
  },
  {
   "cell_type": "code",
   "execution_count": 13,
   "id": "devoted-racing",
   "metadata": {},
   "outputs": [
    {
     "data": {
      "text/html": [
       "<div>\n",
       "<style scoped>\n",
       "    .dataframe tbody tr th:only-of-type {\n",
       "        vertical-align: middle;\n",
       "    }\n",
       "\n",
       "    .dataframe tbody tr th {\n",
       "        vertical-align: top;\n",
       "    }\n",
       "\n",
       "    .dataframe thead th {\n",
       "        text-align: right;\n",
       "    }\n",
       "</style>\n",
       "<table border=\"1\" class=\"dataframe\">\n",
       "  <thead>\n",
       "    <tr style=\"text-align: right;\">\n",
       "      <th></th>\n",
       "      <th>sample date</th>\n",
       "    </tr>\n",
       "  </thead>\n",
       "  <tbody>\n",
       "    <tr>\n",
       "      <th>0</th>\n",
       "      <td>2021-01-05</td>\n",
       "    </tr>\n",
       "    <tr>\n",
       "      <th>1</th>\n",
       "      <td>2021-02-04</td>\n",
       "    </tr>\n",
       "    <tr>\n",
       "      <th>2</th>\n",
       "      <td>2021-03-06</td>\n",
       "    </tr>\n",
       "    <tr>\n",
       "      <th>3</th>\n",
       "      <td>2021-04-05</td>\n",
       "    </tr>\n",
       "    <tr>\n",
       "      <th>4</th>\n",
       "      <td>2021-05-05</td>\n",
       "    </tr>\n",
       "    <tr>\n",
       "      <th>5</th>\n",
       "      <td>2021-06-04</td>\n",
       "    </tr>\n",
       "    <tr>\n",
       "      <th>6</th>\n",
       "      <td>2021-07-04</td>\n",
       "    </tr>\n",
       "    <tr>\n",
       "      <th>7</th>\n",
       "      <td>2021-08-03</td>\n",
       "    </tr>\n",
       "    <tr>\n",
       "      <th>8</th>\n",
       "      <td>2021-09-02</td>\n",
       "    </tr>\n",
       "  </tbody>\n",
       "</table>\n",
       "</div>"
      ],
      "text/plain": [
       "  sample date\n",
       "0  2021-01-05\n",
       "1  2021-02-04\n",
       "2  2021-03-06\n",
       "3  2021-04-05\n",
       "4  2021-05-05\n",
       "5  2021-06-04\n",
       "6  2021-07-04\n",
       "7  2021-08-03\n",
       "8  2021-09-02"
      ]
     },
     "execution_count": 13,
     "metadata": {},
     "output_type": "execute_result"
    }
   ],
   "source": [
    "# assign dataframe to date range\n",
    "df = pd.DataFrame(data=date_range, columns=['sample date'])\n",
    "df"
   ]
  },
  {
   "cell_type": "markdown",
   "id": "floppy-valuation",
   "metadata": {},
   "source": [
    "#### explore `diff()` function - find date diffrence from prior date"
   ]
  },
  {
   "cell_type": "code",
   "execution_count": 14,
   "id": "liked-discretion",
   "metadata": {},
   "outputs": [
    {
     "data": {
      "text/html": [
       "<div>\n",
       "<style scoped>\n",
       "    .dataframe tbody tr th:only-of-type {\n",
       "        vertical-align: middle;\n",
       "    }\n",
       "\n",
       "    .dataframe tbody tr th {\n",
       "        vertical-align: top;\n",
       "    }\n",
       "\n",
       "    .dataframe thead th {\n",
       "        text-align: right;\n",
       "    }\n",
       "</style>\n",
       "<table border=\"1\" class=\"dataframe\">\n",
       "  <thead>\n",
       "    <tr style=\"text-align: right;\">\n",
       "      <th></th>\n",
       "      <th>sample date</th>\n",
       "      <th>date diff</th>\n",
       "    </tr>\n",
       "  </thead>\n",
       "  <tbody>\n",
       "    <tr>\n",
       "      <th>0</th>\n",
       "      <td>2021-01-05</td>\n",
       "      <td>NaT</td>\n",
       "    </tr>\n",
       "    <tr>\n",
       "      <th>1</th>\n",
       "      <td>2021-02-04</td>\n",
       "      <td>NaT</td>\n",
       "    </tr>\n",
       "    <tr>\n",
       "      <th>2</th>\n",
       "      <td>2021-03-06</td>\n",
       "      <td>NaT</td>\n",
       "    </tr>\n",
       "    <tr>\n",
       "      <th>3</th>\n",
       "      <td>2021-04-05</td>\n",
       "      <td>NaT</td>\n",
       "    </tr>\n",
       "    <tr>\n",
       "      <th>4</th>\n",
       "      <td>2021-05-05</td>\n",
       "      <td>NaT</td>\n",
       "    </tr>\n",
       "    <tr>\n",
       "      <th>5</th>\n",
       "      <td>2021-06-04</td>\n",
       "      <td>&lt;150 * Days&gt;</td>\n",
       "    </tr>\n",
       "    <tr>\n",
       "      <th>6</th>\n",
       "      <td>2021-07-04</td>\n",
       "      <td>&lt;150 * Days&gt;</td>\n",
       "    </tr>\n",
       "    <tr>\n",
       "      <th>7</th>\n",
       "      <td>2021-08-03</td>\n",
       "      <td>&lt;150 * Days&gt;</td>\n",
       "    </tr>\n",
       "    <tr>\n",
       "      <th>8</th>\n",
       "      <td>2021-09-02</td>\n",
       "      <td>&lt;150 * Days&gt;</td>\n",
       "    </tr>\n",
       "  </tbody>\n",
       "</table>\n",
       "</div>"
      ],
      "text/plain": [
       "  sample date     date diff\n",
       "0  2021-01-05           NaT\n",
       "1  2021-02-04           NaT\n",
       "2  2021-03-06           NaT\n",
       "3  2021-04-05           NaT\n",
       "4  2021-05-05           NaT\n",
       "5  2021-06-04  <150 * Days>\n",
       "6  2021-07-04  <150 * Days>\n",
       "7  2021-08-03  <150 * Days>\n",
       "8  2021-09-02  <150 * Days>"
      ]
     },
     "execution_count": 14,
     "metadata": {},
     "output_type": "execute_result"
    }
   ],
   "source": [
    "# find diffrence from fifth period\n",
    "df['date diff'] = df['sample date'].diff(periods=5)\n",
    "df"
   ]
  },
  {
   "cell_type": "code",
   "execution_count": 15,
   "id": "organic-stranger",
   "metadata": {},
   "outputs": [
    {
     "data": {
      "text/html": [
       "<div>\n",
       "<style scoped>\n",
       "    .dataframe tbody tr th:only-of-type {\n",
       "        vertical-align: middle;\n",
       "    }\n",
       "\n",
       "    .dataframe tbody tr th {\n",
       "        vertical-align: top;\n",
       "    }\n",
       "\n",
       "    .dataframe thead th {\n",
       "        text-align: right;\n",
       "    }\n",
       "</style>\n",
       "<table border=\"1\" class=\"dataframe\">\n",
       "  <thead>\n",
       "    <tr style=\"text-align: right;\">\n",
       "      <th></th>\n",
       "      <th>sample date</th>\n",
       "      <th>date diff</th>\n",
       "    </tr>\n",
       "  </thead>\n",
       "  <tbody>\n",
       "    <tr>\n",
       "      <th>0</th>\n",
       "      <td>2021-01-05</td>\n",
       "      <td>NaT</td>\n",
       "    </tr>\n",
       "    <tr>\n",
       "      <th>1</th>\n",
       "      <td>2021-02-04</td>\n",
       "      <td>&lt;30 * Days&gt;</td>\n",
       "    </tr>\n",
       "    <tr>\n",
       "      <th>2</th>\n",
       "      <td>2021-03-06</td>\n",
       "      <td>&lt;30 * Days&gt;</td>\n",
       "    </tr>\n",
       "    <tr>\n",
       "      <th>3</th>\n",
       "      <td>2021-04-05</td>\n",
       "      <td>&lt;30 * Days&gt;</td>\n",
       "    </tr>\n",
       "    <tr>\n",
       "      <th>4</th>\n",
       "      <td>2021-05-05</td>\n",
       "      <td>&lt;30 * Days&gt;</td>\n",
       "    </tr>\n",
       "    <tr>\n",
       "      <th>5</th>\n",
       "      <td>2021-06-04</td>\n",
       "      <td>&lt;30 * Days&gt;</td>\n",
       "    </tr>\n",
       "    <tr>\n",
       "      <th>6</th>\n",
       "      <td>2021-07-04</td>\n",
       "      <td>&lt;30 * Days&gt;</td>\n",
       "    </tr>\n",
       "    <tr>\n",
       "      <th>7</th>\n",
       "      <td>2021-08-03</td>\n",
       "      <td>&lt;30 * Days&gt;</td>\n",
       "    </tr>\n",
       "    <tr>\n",
       "      <th>8</th>\n",
       "      <td>2021-09-02</td>\n",
       "      <td>&lt;30 * Days&gt;</td>\n",
       "    </tr>\n",
       "  </tbody>\n",
       "</table>\n",
       "</div>"
      ],
      "text/plain": [
       "  sample date    date diff\n",
       "0  2021-01-05          NaT\n",
       "1  2021-02-04  <30 * Days>\n",
       "2  2021-03-06  <30 * Days>\n",
       "3  2021-04-05  <30 * Days>\n",
       "4  2021-05-05  <30 * Days>\n",
       "5  2021-06-04  <30 * Days>\n",
       "6  2021-07-04  <30 * Days>\n",
       "7  2021-08-03  <30 * Days>\n",
       "8  2021-09-02  <30 * Days>"
      ]
     },
     "execution_count": 15,
     "metadata": {},
     "output_type": "execute_result"
    }
   ],
   "source": [
    "# find diffrence from first period\n",
    "df['date diff'] = df['sample date'].diff(periods=1)\n",
    "df"
   ]
  },
  {
   "cell_type": "markdown",
   "id": "patient-halifax",
   "metadata": {},
   "source": [
    "#### find first day of the month"
   ]
  },
  {
   "cell_type": "code",
   "execution_count": 16,
   "id": "beginning-walnut",
   "metadata": {},
   "outputs": [
    {
     "data": {
      "text/plain": [
       "array([Period('2021-01-05', '30D'), Period('2021-02-04', '30D'),\n",
       "       Period('2021-03-06', '30D'), Period('2021-04-05', '30D'),\n",
       "       Period('2021-05-05', '30D'), Period('2021-06-04', '30D'),\n",
       "       Period('2021-07-04', '30D'), Period('2021-08-03', '30D'),\n",
       "       Period('2021-09-02', '30D')], dtype=object)"
      ]
     },
     "execution_count": 16,
     "metadata": {},
     "output_type": "execute_result"
    }
   ],
   "source": [
    "# check values of dataframe\n",
    "df['sample date'].values"
   ]
  },
  {
   "cell_type": "code",
   "execution_count": 17,
   "id": "matched-blink",
   "metadata": {},
   "outputs": [
    {
     "data": {
      "text/html": [
       "<div>\n",
       "<style scoped>\n",
       "    .dataframe tbody tr th:only-of-type {\n",
       "        vertical-align: middle;\n",
       "    }\n",
       "\n",
       "    .dataframe tbody tr th {\n",
       "        vertical-align: top;\n",
       "    }\n",
       "\n",
       "    .dataframe thead th {\n",
       "        text-align: right;\n",
       "    }\n",
       "</style>\n",
       "<table border=\"1\" class=\"dataframe\">\n",
       "  <thead>\n",
       "    <tr style=\"text-align: right;\">\n",
       "      <th></th>\n",
       "      <th>sample date</th>\n",
       "      <th>date diff</th>\n",
       "      <th>first of month</th>\n",
       "    </tr>\n",
       "  </thead>\n",
       "  <tbody>\n",
       "    <tr>\n",
       "      <th>0</th>\n",
       "      <td>2021-01-05</td>\n",
       "      <td>NaT</td>\n",
       "      <td>2021-01-01</td>\n",
       "    </tr>\n",
       "    <tr>\n",
       "      <th>1</th>\n",
       "      <td>2021-02-04</td>\n",
       "      <td>&lt;30 * Days&gt;</td>\n",
       "      <td>2021-02-01</td>\n",
       "    </tr>\n",
       "    <tr>\n",
       "      <th>2</th>\n",
       "      <td>2021-03-06</td>\n",
       "      <td>&lt;30 * Days&gt;</td>\n",
       "      <td>2021-03-01</td>\n",
       "    </tr>\n",
       "    <tr>\n",
       "      <th>3</th>\n",
       "      <td>2021-04-05</td>\n",
       "      <td>&lt;30 * Days&gt;</td>\n",
       "      <td>2021-04-01</td>\n",
       "    </tr>\n",
       "    <tr>\n",
       "      <th>4</th>\n",
       "      <td>2021-05-05</td>\n",
       "      <td>&lt;30 * Days&gt;</td>\n",
       "      <td>2021-05-01</td>\n",
       "    </tr>\n",
       "    <tr>\n",
       "      <th>5</th>\n",
       "      <td>2021-06-04</td>\n",
       "      <td>&lt;30 * Days&gt;</td>\n",
       "      <td>2021-06-01</td>\n",
       "    </tr>\n",
       "    <tr>\n",
       "      <th>6</th>\n",
       "      <td>2021-07-04</td>\n",
       "      <td>&lt;30 * Days&gt;</td>\n",
       "      <td>2021-07-01</td>\n",
       "    </tr>\n",
       "    <tr>\n",
       "      <th>7</th>\n",
       "      <td>2021-08-03</td>\n",
       "      <td>&lt;30 * Days&gt;</td>\n",
       "      <td>2021-08-01</td>\n",
       "    </tr>\n",
       "    <tr>\n",
       "      <th>8</th>\n",
       "      <td>2021-09-02</td>\n",
       "      <td>&lt;30 * Days&gt;</td>\n",
       "      <td>2021-09-01</td>\n",
       "    </tr>\n",
       "  </tbody>\n",
       "</table>\n",
       "</div>"
      ],
      "text/plain": [
       "  sample date    date diff first of month\n",
       "0  2021-01-05          NaT     2021-01-01\n",
       "1  2021-02-04  <30 * Days>     2021-02-01\n",
       "2  2021-03-06  <30 * Days>     2021-03-01\n",
       "3  2021-04-05  <30 * Days>     2021-04-01\n",
       "4  2021-05-05  <30 * Days>     2021-05-01\n",
       "5  2021-06-04  <30 * Days>     2021-06-01\n",
       "6  2021-07-04  <30 * Days>     2021-07-01\n",
       "7  2021-08-03  <30 * Days>     2021-08-01\n",
       "8  2021-09-02  <30 * Days>     2021-09-01"
      ]
     },
     "execution_count": 17,
     "metadata": {},
     "output_type": "execute_result"
    }
   ],
   "source": [
    "df['first of month'] = df['sample date'].values.astype('datetime64[M]')\n",
    "df"
   ]
  },
  {
   "cell_type": "markdown",
   "id": "mexican-norwegian",
   "metadata": {},
   "source": [
    "### Date Types"
   ]
  },
  {
   "cell_type": "code",
   "execution_count": 18,
   "id": "junior-palace",
   "metadata": {},
   "outputs": [
    {
     "data": {
      "text/plain": [
       "sample date          period[30D]\n",
       "date diff                 object\n",
       "first of month    datetime64[ns]\n",
       "dtype: object"
      ]
     },
     "execution_count": 18,
     "metadata": {},
     "output_type": "execute_result"
    }
   ],
   "source": [
    "# checking data types\n",
    "df.dtypes"
   ]
  },
  {
   "cell_type": "markdown",
   "id": "exotic-basket",
   "metadata": {},
   "source": [
    "#### explore `to_timestamp()` function"
   ]
  },
  {
   "cell_type": "code",
   "execution_count": 19,
   "id": "worldwide-wisconsin",
   "metadata": {},
   "outputs": [
    {
     "data": {
      "text/plain": [
       "sample date       datetime64[ns]\n",
       "date diff                 object\n",
       "first of month    datetime64[ns]\n",
       "dtype: object"
      ]
     },
     "execution_count": 19,
     "metadata": {},
     "output_type": "execute_result"
    }
   ],
   "source": [
    "# convert period to datetime64\n",
    "df['sample date'] = df['sample date'].dt.to_timestamp()\n",
    "df.dtypes"
   ]
  },
  {
   "cell_type": "markdown",
   "id": "amino-traffic",
   "metadata": {},
   "source": [
    "### Date Substraction"
   ]
  },
  {
   "cell_type": "code",
   "execution_count": 20,
   "id": "grateful-consent",
   "metadata": {},
   "outputs": [
    {
     "data": {
      "text/plain": [
       "0   4 days\n",
       "1   3 days\n",
       "2   5 days\n",
       "3   4 days\n",
       "4   4 days\n",
       "5   3 days\n",
       "6   3 days\n",
       "7   2 days\n",
       "8   1 days\n",
       "dtype: timedelta64[ns]"
      ]
     },
     "execution_count": 20,
     "metadata": {},
     "output_type": "execute_result"
    }
   ],
   "source": [
    "# substract dates\n",
    "df['sample date'] - df['first of month']"
   ]
  },
  {
   "cell_type": "code",
   "execution_count": 21,
   "id": "sitting-latest",
   "metadata": {},
   "outputs": [
    {
     "name": "stderr",
     "output_type": "stream",
     "text": [
      "c:\\program files\\python37\\lib\\site-packages\\pandas\\core\\arrays\\datetimelike.py:1111: PerformanceWarning: Adding/subtracting object-dtype array to DatetimeArray not vectorized\n",
      "  PerformanceWarning,\n"
     ]
    },
    {
     "data": {
      "text/plain": [
       "0          NaT\n",
       "1   2021-01-05\n",
       "2   2021-02-04\n",
       "3   2021-03-06\n",
       "4   2021-04-05\n",
       "5   2021-05-05\n",
       "6   2021-06-04\n",
       "7   2021-07-04\n",
       "8   2021-08-03\n",
       "dtype: datetime64[ns]"
      ]
     },
     "execution_count": 21,
     "metadata": {},
     "output_type": "execute_result"
    }
   ],
   "source": [
    "# substract dates\n",
    "df['sample date'] - df['date diff']"
   ]
  },
  {
   "cell_type": "markdown",
   "id": "trying-diesel",
   "metadata": {},
   "source": [
    "#### explore `pd.Timedelta()` function "
   ]
  },
  {
   "cell_type": "code",
   "execution_count": 22,
   "id": "alone-barrier",
   "metadata": {},
   "outputs": [
    {
     "data": {
      "text/plain": [
       "0   2020-12-06\n",
       "1   2021-01-05\n",
       "2   2021-02-04\n",
       "3   2021-03-06\n",
       "4   2021-04-05\n",
       "5   2021-05-05\n",
       "6   2021-06-04\n",
       "7   2021-07-04\n",
       "8   2021-08-03\n",
       "Name: sample date, dtype: datetime64[ns]"
      ]
     },
     "execution_count": 22,
     "metadata": {},
     "output_type": "execute_result"
    }
   ],
   "source": [
    "# substract\n",
    "df['sample date'] - pd.Timedelta('30 d')"
   ]
  },
  {
   "cell_type": "code",
   "execution_count": 23,
   "id": "remarkable-petroleum",
   "metadata": {},
   "outputs": [
    {
     "data": {
      "text/plain": [
       "0   2021-01-10\n",
       "1   2021-02-09\n",
       "2   2021-03-11\n",
       "3   2021-04-10\n",
       "4   2021-05-10\n",
       "5   2021-06-09\n",
       "6   2021-07-09\n",
       "7   2021-08-08\n",
       "8   2021-09-07\n",
       "Name: sample date, dtype: datetime64[ns]"
      ]
     },
     "execution_count": 23,
     "metadata": {},
     "output_type": "execute_result"
    }
   ],
   "source": [
    "# adding\n",
    "df['sample date'] + pd.Timedelta('5 d')"
   ]
  },
  {
   "cell_type": "markdown",
   "id": "pointed-probe",
   "metadata": {},
   "source": [
    "#### explore `dt.day_name()` function "
   ]
  },
  {
   "cell_type": "code",
   "execution_count": 24,
   "id": "difficult-ghost",
   "metadata": {},
   "outputs": [
    {
     "data": {
      "text/plain": [
       "0      Tuesday\n",
       "1     Thursday\n",
       "2     Saturday\n",
       "3       Monday\n",
       "4    Wednesday\n",
       "5       Friday\n",
       "6       Sunday\n",
       "7      Tuesday\n",
       "8     Thursday\n",
       "Name: sample date, dtype: object"
      ]
     },
     "execution_count": 24,
     "metadata": {},
     "output_type": "execute_result"
    }
   ],
   "source": [
    "df['sample date'].dt.day_name()"
   ]
  }
 ],
 "metadata": {
  "kernelspec": {
   "display_name": "Python 3",
   "language": "python",
   "name": "python3"
  },
  "language_info": {
   "codemirror_mode": {
    "name": "ipython",
    "version": 3
   },
   "file_extension": ".py",
   "mimetype": "text/x-python",
   "name": "python",
   "nbconvert_exporter": "python",
   "pygments_lexer": "ipython3",
   "version": "3.7.3"
  }
 },
 "nbformat": 4,
 "nbformat_minor": 5
}
