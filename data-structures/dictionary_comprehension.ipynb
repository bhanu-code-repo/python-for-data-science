{
 "cells": [
  {
   "cell_type": "code",
   "execution_count": null,
   "metadata": {},
   "outputs": [],
   "source": [
    "# dictionary of grocery stocks\n",
    "grocery_stock = {'fruits': 250, 'vegitables': 409, 'snacks': 178, 'spices': 301, 'beverage': 418}\n",
    "grocery_stock"
   ]
  },
  {
   "cell_type": "code",
   "execution_count": null,
   "metadata": {},
   "outputs": [],
   "source": [
    "# comparison - Is stock of vegitables is more then fruits?\n",
    "print(grocery_stock['fruits'] < grocery_stock['vegitables'])"
   ]
  },
  {
   "cell_type": "code",
   "execution_count": null,
   "metadata": {},
   "outputs": [],
   "source": [
    "# update snacks stock\n",
    "print('Initial Stock Value: ', grocery_stock['snacks'])\n",
    "grocery_stock['snacks'] = 254 # 👈 updated stock value from 178 to 254\n",
    "print('Updated Stock Value: ', grocery_stock['snacks'])"
   ]
  },
  {
   "cell_type": "code",
   "execution_count": null,
   "metadata": {},
   "outputs": [],
   "source": [
    "# list of keys\n",
    "grocery_stock.keys()"
   ]
  },
  {
   "cell_type": "code",
   "execution_count": null,
   "metadata": {},
   "outputs": [],
   "source": [
    "# check membership\n",
    "print('snacks' in grocery_stock.keys())"
   ]
  },
  {
   "cell_type": "code",
   "execution_count": null,
   "metadata": {},
   "outputs": [],
   "source": [
    "# check membership\n",
    "print('Snacks' in grocery_stock.keys())"
   ]
  },
  {
   "cell_type": "code",
   "execution_count": null,
   "metadata": {},
   "outputs": [],
   "source": [
    "# list of values\n",
    "grocery_stock.values()"
   ]
  },
  {
   "cell_type": "code",
   "execution_count": null,
   "metadata": {},
   "outputs": [],
   "source": [
    "# check membership\n",
    "print(418 in grocery_stock.values())"
   ]
  },
  {
   "cell_type": "code",
   "execution_count": null,
   "metadata": {},
   "outputs": [],
   "source": [
    "# check membership\n",
    "print(418.1 in grocery_stock.values())"
   ]
  },
  {
   "cell_type": "code",
   "execution_count": null,
   "metadata": {},
   "outputs": [],
   "source": [
    "# access key and values of dictionary\n",
    "for key, value in grocery_stock.items():\n",
    "    print('Key: {0}, Value: {1}'.format(key,value))"
   ]
  },
  {
   "cell_type": "code",
   "execution_count": null,
   "metadata": {},
   "outputs": [],
   "source": [
    "# dictionary of grocery item list\n",
    "grocery_items = {'fruits': ['apple','pears','grapes'], 'vegitables': ['garlic','capsicum','carrot','cauliflower']}\n",
    "grocery_items"
   ]
  },
  {
   "cell_type": "code",
   "execution_count": null,
   "metadata": {},
   "outputs": [],
   "source": [
    "# access key and values of dictionary\n",
    "for key, value in grocery_items.items():\n",
    "    for item in value:\n",
    "        print('Category: {0}, Items: {1}'.format(key,item))"
   ]
  },
  {
   "cell_type": "code",
   "execution_count": null,
   "metadata": {},
   "outputs": [],
   "source": [
    "# create list of keys and values\n",
    "keys = ['A','B','C','D','E','F','G','H','I','J','K']\n",
    "values = [1,2,3,4,5,6,7,8,9,10,11]"
   ]
  },
  {
   "cell_type": "code",
   "execution_count": null,
   "metadata": {},
   "outputs": [],
   "source": [
    "# create dictionary\n",
    "{key:value for (key,value) in zip(keys,values)}"
   ]
  },
  {
   "cell_type": "code",
   "execution_count": null,
   "metadata": {},
   "outputs": [],
   "source": [
    "# create set of integers using set comprehension\n",
    "{ val1 * val2 for val1 in range(1,6) for val2 in range(2,6)}"
   ]
  },
  {
   "cell_type": "code",
   "execution_count": null,
   "metadata": {},
   "outputs": [],
   "source": [
    "# create dictionary of integers and their multiple using dictionary comprehension\n",
    "{ val1: val1 * val2 for val1 in range(1,11) for val2 in range(1,11)}"
   ]
  },
  {
   "cell_type": "code",
   "execution_count": null,
   "metadata": {},
   "outputs": [],
   "source": [
    "# sample input string\n",
    "inp_str = '#Rockey_Planet @Mercury @Venus @Earth @Mars #Gas_Giants %Jupiter %Saturn #Ice_Giants $Uranus $Neptune'\n",
    "inp_str"
   ]
  },
  {
   "cell_type": "code",
   "execution_count": null,
   "metadata": {},
   "outputs": [],
   "source": [
    "# create empty dictionary and key variable 👉 approach 1\n",
    "planet_dict = {}\n",
    "key = ''\n",
    "\n",
    "# loop through list of members\n",
    "for element in inp_str.split(' '):\n",
    "    if '#' in element:\n",
    "        key = element[1:]\n",
    "        if not key in planet_dict:\n",
    "            planet_dict[element[1:]] = []\n",
    "    else:\n",
    "        planet_dict[key].append(element[1:])\n",
    "\n",
    "# print dictionary\n",
    "planet_dict"
   ]
  },
  {
   "cell_type": "code",
   "execution_count": null,
   "metadata": {},
   "outputs": [],
   "source": [
    "# using dictionary comprehension 👉 approach 2\n",
    "{k:v for (k,v) in zip([key[1:] for key in inp_str.split(' ') if '#' in key], \n",
    "                      [[value[1:] for value in inp_str.split(' ')  if char in value] for char in ['@','%','$']])}"
   ]
  },
  {
   "cell_type": "code",
   "execution_count": null,
   "metadata": {},
   "outputs": [],
   "source": [
    "# using dictionary comprehension 👉 approach 2 (alternative)\n",
    "# create list of keys and values\n",
    "keys = [key[1:] for key in inp_str.split(' ') if '#' in key]\n",
    "values = [[value[1:] for value in inp_str.split(' ')  if char in value] for char in ['@','%','$']]\n",
    "\n",
    "# dictionary comprehension\n",
    "{k:v for (k,v) in zip(keys, values)}"
   ]
  }
 ],
 "metadata": {
  "kernelspec": {
   "display_name": "Python 3",
   "language": "python",
   "name": "python3"
  },
  "language_info": {
   "codemirror_mode": {
    "name": "ipython",
    "version": 3
   },
   "file_extension": ".py",
   "mimetype": "text/x-python",
   "name": "python",
   "nbconvert_exporter": "python",
   "pygments_lexer": "ipython3",
   "version": "3.7.6"
  }
 },
 "nbformat": 4,
 "nbformat_minor": 4
}
