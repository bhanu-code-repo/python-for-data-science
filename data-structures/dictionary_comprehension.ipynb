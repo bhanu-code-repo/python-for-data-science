{
 "cells": [
  {
   "cell_type": "code",
   "execution_count": 1,
   "metadata": {},
   "outputs": [
    {
     "data": {
      "text/plain": [
       "{'fruits': 250,\n",
       " 'vegitables': 409,\n",
       " 'snacks': 178,\n",
       " 'spices': 301,\n",
       " 'beverage': 418}"
      ]
     },
     "execution_count": 1,
     "metadata": {},
     "output_type": "execute_result"
    }
   ],
   "source": [
    "# dictionary of grocery stocks\n",
    "grocery_stock = {'fruits': 250, 'vegitables': 409, 'snacks': 178, 'spices': 301, 'beverage': 418}\n",
    "grocery_stock"
   ]
  },
  {
   "cell_type": "code",
   "execution_count": 2,
   "metadata": {},
   "outputs": [
    {
     "name": "stdout",
     "output_type": "stream",
     "text": [
      "True\n"
     ]
    }
   ],
   "source": [
    "# comparison - Is stock of vegitables is more then fruits?\n",
    "print(grocery_stock['fruits'] < grocery_stock['vegitables'])"
   ]
  },
  {
   "cell_type": "code",
   "execution_count": 3,
   "metadata": {},
   "outputs": [
    {
     "name": "stdout",
     "output_type": "stream",
     "text": [
      "Initial Stock Value:  178\n",
      "Updated Stock Value:  254\n"
     ]
    }
   ],
   "source": [
    "# update snacks stock\n",
    "print('Initial Stock Value: ', grocery_stock['snacks'])\n",
    "grocery_stock['snacks'] = 254 # 👈 updated stock value from 178 to 254\n",
    "print('Updated Stock Value: ', grocery_stock['snacks'])"
   ]
  },
  {
   "cell_type": "code",
   "execution_count": 4,
   "metadata": {},
   "outputs": [
    {
     "data": {
      "text/plain": [
       "dict_keys(['fruits', 'vegitables', 'snacks', 'spices', 'beverage'])"
      ]
     },
     "execution_count": 4,
     "metadata": {},
     "output_type": "execute_result"
    }
   ],
   "source": [
    "# list of keys\n",
    "grocery_stock.keys()"
   ]
  },
  {
   "cell_type": "code",
   "execution_count": 5,
   "metadata": {},
   "outputs": [
    {
     "name": "stdout",
     "output_type": "stream",
     "text": [
      "True\n"
     ]
    }
   ],
   "source": [
    "# check membership\n",
    "print('snacks' in grocery_stock.keys())"
   ]
  },
  {
   "cell_type": "code",
   "execution_count": 6,
   "metadata": {},
   "outputs": [
    {
     "name": "stdout",
     "output_type": "stream",
     "text": [
      "False\n"
     ]
    }
   ],
   "source": [
    "# check membership\n",
    "print('Snacks' in grocery_stock.keys())"
   ]
  },
  {
   "cell_type": "code",
   "execution_count": 7,
   "metadata": {},
   "outputs": [
    {
     "data": {
      "text/plain": [
       "dict_values([250, 409, 254, 301, 418])"
      ]
     },
     "execution_count": 7,
     "metadata": {},
     "output_type": "execute_result"
    }
   ],
   "source": [
    "# list of values\n",
    "grocery_stock.values()"
   ]
  },
  {
   "cell_type": "code",
   "execution_count": 8,
   "metadata": {},
   "outputs": [
    {
     "name": "stdout",
     "output_type": "stream",
     "text": [
      "True\n"
     ]
    }
   ],
   "source": [
    "# check membership\n",
    "print(418 in grocery_stock.values())"
   ]
  },
  {
   "cell_type": "code",
   "execution_count": 9,
   "metadata": {},
   "outputs": [
    {
     "name": "stdout",
     "output_type": "stream",
     "text": [
      "False\n"
     ]
    }
   ],
   "source": [
    "# check membership\n",
    "print(418.1 in grocery_stock.values())"
   ]
  },
  {
   "cell_type": "code",
   "execution_count": 10,
   "metadata": {},
   "outputs": [
    {
     "name": "stdout",
     "output_type": "stream",
     "text": [
      "Key: fruits, Value: 250\n",
      "Key: vegitables, Value: 409\n",
      "Key: snacks, Value: 254\n",
      "Key: spices, Value: 301\n",
      "Key: beverage, Value: 418\n"
     ]
    }
   ],
   "source": [
    "# access key and values of dictionary\n",
    "for key, value in grocery_stock.items():\n",
    "    print('Key: {0}, Value: {1}'.format(key,value))"
   ]
  },
  {
   "cell_type": "code",
   "execution_count": 11,
   "metadata": {},
   "outputs": [
    {
     "data": {
      "text/plain": [
       "{'fruits': ['apple', 'pears', 'grapes'],\n",
       " 'vegitables': ['garlic', 'capsicum', 'carrot', 'cauliflower']}"
      ]
     },
     "execution_count": 11,
     "metadata": {},
     "output_type": "execute_result"
    }
   ],
   "source": [
    "# dictionary of grocery item list\n",
    "grocery_items = {'fruits': ['apple','pears','grapes'], 'vegitables': ['garlic','capsicum','carrot','cauliflower']}\n",
    "grocery_items"
   ]
  },
  {
   "cell_type": "code",
   "execution_count": 12,
   "metadata": {},
   "outputs": [
    {
     "name": "stdout",
     "output_type": "stream",
     "text": [
      "Category: fruits, Items: apple\n",
      "Category: fruits, Items: pears\n",
      "Category: fruits, Items: grapes\n",
      "Category: vegitables, Items: garlic\n",
      "Category: vegitables, Items: capsicum\n",
      "Category: vegitables, Items: carrot\n",
      "Category: vegitables, Items: cauliflower\n"
     ]
    }
   ],
   "source": [
    "# access key and values of dictionary\n",
    "for key, value in grocery_items.items():\n",
    "    for item in value:\n",
    "        print('Category: {0}, Items: {1}'.format(key,item))"
   ]
  },
  {
   "cell_type": "code",
   "execution_count": 13,
   "metadata": {},
   "outputs": [],
   "source": [
    "# create list of keys and values\n",
    "keys = ['A','B','C','D','E','F','G','H','I','J','K']\n",
    "values = [1,2,3,4,5,6,7,8,9,10,11]"
   ]
  },
  {
   "cell_type": "code",
   "execution_count": 14,
   "metadata": {},
   "outputs": [
    {
     "data": {
      "text/plain": [
       "{'A': 1,\n",
       " 'B': 2,\n",
       " 'C': 3,\n",
       " 'D': 4,\n",
       " 'E': 5,\n",
       " 'F': 6,\n",
       " 'G': 7,\n",
       " 'H': 8,\n",
       " 'I': 9,\n",
       " 'J': 10,\n",
       " 'K': 11}"
      ]
     },
     "execution_count": 14,
     "metadata": {},
     "output_type": "execute_result"
    }
   ],
   "source": [
    "# create dictionary\n",
    "{key:value for (key,value) in zip(keys,values)}"
   ]
  },
  {
   "cell_type": "code",
   "execution_count": 15,
   "metadata": {},
   "outputs": [
    {
     "data": {
      "text/plain": [
       "{2, 3, 4, 5, 6, 8, 9, 10, 12, 15, 16, 20, 25}"
      ]
     },
     "execution_count": 15,
     "metadata": {},
     "output_type": "execute_result"
    }
   ],
   "source": [
    "# create set of integers using set comprehension\n",
    "{ val1 * val2 for val1 in range(1,6) for val2 in range(2,6)}"
   ]
  },
  {
   "cell_type": "code",
   "execution_count": 16,
   "metadata": {},
   "outputs": [
    {
     "data": {
      "text/plain": [
       "{1: 10, 2: 20, 3: 30, 4: 40, 5: 50, 6: 60, 7: 70, 8: 80, 9: 90, 10: 100}"
      ]
     },
     "execution_count": 16,
     "metadata": {},
     "output_type": "execute_result"
    }
   ],
   "source": [
    "# create dictionary of integers and their multiple using dictionary comprehension\n",
    "{ val1: val1 * val2 for val1 in range(1,11) for val2 in range(1,11)}"
   ]
  },
  {
   "cell_type": "code",
   "execution_count": 17,
   "metadata": {},
   "outputs": [
    {
     "data": {
      "text/plain": [
       "'#Rockey_Planet @Mercury @Venus @Earth @Mars #Gas_Giants %Jupiter %Saturn #Ice_Giants $Uranus $Neptune'"
      ]
     },
     "execution_count": 17,
     "metadata": {},
     "output_type": "execute_result"
    }
   ],
   "source": [
    "# sample input string\n",
    "inp_str = '#Rockey_Planet @Mercury @Venus @Earth @Mars #Gas_Giants %Jupiter %Saturn #Ice_Giants $Uranus $Neptune'\n",
    "inp_str"
   ]
  },
  {
   "cell_type": "code",
   "execution_count": 18,
   "metadata": {},
   "outputs": [
    {
     "data": {
      "text/plain": [
       "{'Rockey_Planet': ['Mercury', 'Venus', 'Earth', 'Mars'],\n",
       " 'Gas_Giants': ['Jupiter', 'Saturn'],\n",
       " 'Ice_Giants': ['Uranus', 'Neptune']}"
      ]
     },
     "execution_count": 18,
     "metadata": {},
     "output_type": "execute_result"
    }
   ],
   "source": [
    "# create empty dictionary and key variable 👉 approach 1\n",
    "planet_dict = {}\n",
    "key = ''\n",
    "\n",
    "# loop through list of members\n",
    "for element in inp_str.split(' '):\n",
    "    if '#' in element:\n",
    "        key = element[1:]\n",
    "        if not key in planet_dict:\n",
    "            planet_dict[element[1:]] = []\n",
    "    else:\n",
    "        planet_dict[key].append(element[1:])\n",
    "\n",
    "# print dictionary\n",
    "planet_dict"
   ]
  },
  {
   "cell_type": "code",
   "execution_count": 19,
   "metadata": {},
   "outputs": [
    {
     "data": {
      "text/plain": [
       "{'Rockey_Planet': ['Mercury', 'Venus', 'Earth', 'Mars'],\n",
       " 'Gas_Giants': ['Jupiter', 'Saturn'],\n",
       " 'Ice_Giants': ['Uranus', 'Neptune']}"
      ]
     },
     "execution_count": 19,
     "metadata": {},
     "output_type": "execute_result"
    }
   ],
   "source": [
    "# using dictionary comprehension 👉 approach 2\n",
    "{k:v for (k,v) in zip([key[1:] for key in inp_str.split(' ') if '#' in key], \n",
    "                      [[value[1:] for value in inp_str.split(' ')  if char in value] for char in ['@','%','$']])}"
   ]
  },
  {
   "cell_type": "code",
   "execution_count": 20,
   "metadata": {},
   "outputs": [
    {
     "data": {
      "text/plain": [
       "{'Rockey_Planet': ['Mercury', 'Venus', 'Earth', 'Mars'],\n",
       " 'Gas_Giants': ['Jupiter', 'Saturn'],\n",
       " 'Ice_Giants': ['Uranus', 'Neptune']}"
      ]
     },
     "execution_count": 20,
     "metadata": {},
     "output_type": "execute_result"
    }
   ],
   "source": [
    "# using dictionary comprehension 👉 approach 2 (alternative)\n",
    "# create list of keys and values\n",
    "keys = [key[1:] for key in inp_str.split(' ') if '#' in key]\n",
    "values = [[value[1:] for value in inp_str.split(' ')  if char in value] for char in ['@','%','$']]\n",
    "\n",
    "# dictionary comprehension\n",
    "{k:v for (k,v) in zip(keys, values)}"
   ]
  }
 ],
 "metadata": {
  "kernelspec": {
   "display_name": "Python 3",
   "language": "python",
   "name": "python3"
  },
  "language_info": {
   "codemirror_mode": {
    "name": "ipython",
    "version": 3
   },
   "file_extension": ".py",
   "mimetype": "text/x-python",
   "name": "python",
   "nbconvert_exporter": "python",
   "pygments_lexer": "ipython3",
   "version": "3.7.6"
  }
 },
 "nbformat": 4,
 "nbformat_minor": 4
}
