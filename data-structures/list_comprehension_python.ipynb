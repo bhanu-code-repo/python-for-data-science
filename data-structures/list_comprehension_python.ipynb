{
 "cells": [
  {
   "cell_type": "code",
   "execution_count": 1,
   "metadata": {},
   "outputs": [],
   "source": [
    "# what are lists?\n",
    "# 👉 container data type that stores a sequence of elements\n",
    "# 👉 unlike strings, lists are mutable — we can modify them at runtime"
   ]
  },
  {
   "cell_type": "code",
   "execution_count": 2,
   "metadata": {},
   "outputs": [
    {
     "name": "stdout",
     "output_type": "stream",
     "text": [
      "[88, 92, 78, 90, 98, 84]\n"
     ]
    }
   ],
   "source": [
    "# list of scores\n",
    "scores = [88, 92, 78, 90, 98, 84]\n",
    "print(scores)"
   ]
  },
  {
   "cell_type": "code",
   "execution_count": 3,
   "metadata": {},
   "outputs": [
    {
     "name": "stdout",
     "output_type": "stream",
     "text": [
      "6\n"
     ]
    }
   ],
   "source": [
    "# print length of scores list\n",
    "print(len(scores))"
   ]
  },
  {
   "cell_type": "code",
   "execution_count": 4,
   "metadata": {},
   "outputs": [
    {
     "name": "stdout",
     "output_type": "stream",
     "text": [
      "88\n",
      "92\n",
      "78\n",
      "90\n",
      "98\n",
      "84\n"
     ]
    }
   ],
   "source": [
    "# looping through scores list\n",
    "for score in scores:\n",
    "    print(score)"
   ]
  },
  {
   "cell_type": "code",
   "execution_count": 5,
   "metadata": {},
   "outputs": [
    {
     "data": {
      "text/plain": [
       "[0, 1, 2, 3, 4, 5, 6, 7, 8]"
      ]
     },
     "execution_count": 5,
     "metadata": {},
     "output_type": "execute_result"
    }
   ],
   "source": [
    "# create list of integers using list comprehension\n",
    "[x for x in range(9)]"
   ]
  },
  {
   "cell_type": "code",
   "execution_count": 6,
   "metadata": {},
   "outputs": [],
   "source": [
    "# Approach 1 👉 using normal looping method\n",
    "# sample input - tweet\n",
    "tweet = '@iamjazzyfizzle I wish I got to watch it with you!! I miss you and @iamlilnicki how was the premier...'"
   ]
  },
  {
   "cell_type": "code",
   "execution_count": 7,
   "metadata": {},
   "outputs": [
    {
     "name": "stdout",
     "output_type": "stream",
     "text": [
      "['@iamjazzyfizzle', '@iamlilnicki']\n"
     ]
    }
   ],
   "source": [
    "# create empty list of words\n",
    "word_list = []\n",
    "\n",
    "# looping through the list\n",
    "for word in tweet.split(' '):\n",
    "    if '@' in word:\n",
    "        word_list.append(word)\n",
    "        \n",
    "# print list of words with '@' symbol\n",
    "print(word_list)"
   ]
  },
  {
   "cell_type": "code",
   "execution_count": 8,
   "metadata": {},
   "outputs": [],
   "source": [
    "# Approach 2 👉 using list comprehension\n",
    "# sample input - tweet\n",
    "tweet = '@iamjazzyfizzle I wish I got to watch it with you!! I miss you and @iamlilnicki how was the premier...'"
   ]
  },
  {
   "cell_type": "code",
   "execution_count": 9,
   "metadata": {},
   "outputs": [
    {
     "data": {
      "text/plain": [
       "['@iamjazzyfizzle', '@iamlilnicki']"
      ]
     },
     "execution_count": 9,
     "metadata": {},
     "output_type": "execute_result"
    }
   ],
   "source": [
    "# list of words with '@' symbol\n",
    "[word for word in tweet.split(' ') if '@' in word]"
   ]
  },
  {
   "cell_type": "code",
   "execution_count": 10,
   "metadata": {},
   "outputs": [
    {
     "name": "stdout",
     "output_type": "stream",
     "text": [
      "[['@FakerPattyPattz Oh dear. Were you drinking out of the forgotten table drinks?'], [\"@alydesigns i was out most of the day so didn't get much done\"], [\"@mrsaintnick hey! i'm leavin in the morning...\"]]\n"
     ]
    }
   ],
   "source": [
    "# list of tweets\n",
    "tweet_list = [\n",
    "                [\"@FakerPattyPattz Oh dear. Were you drinking out of the forgotten table drinks?\"],\n",
    "                [\"@alydesigns i was out most of the day so didn't get much done\"],\n",
    "                [\"@mrsaintnick hey! i'm leavin in the morning...\"]\n",
    "             ]\n",
    "\n",
    "# print list of tweets\n",
    "print(tweet_list)"
   ]
  },
  {
   "cell_type": "code",
   "execution_count": 11,
   "metadata": {},
   "outputs": [
    {
     "name": "stdout",
     "output_type": "stream",
     "text": [
      "['@FakerPattyPattz', '@alydesigns', '@mrsaintnick']\n"
     ]
    }
   ],
   "source": [
    "# Approach 1 👉 using normal looping method\n",
    "# create empty list of words\n",
    "word_list = []\n",
    "\n",
    "# looping through the list of tweets\n",
    "for tweet in tweet_list:\n",
    "    # looping through the list of tweet words\n",
    "    for word in ''.join(tweet).split(' '):\n",
    "        if '@' in word:\n",
    "            word_list.append(word)\n",
    "\n",
    "# print list of words with '@' symbol\n",
    "print(word_list)"
   ]
  },
  {
   "cell_type": "code",
   "execution_count": 12,
   "metadata": {},
   "outputs": [
    {
     "data": {
      "text/plain": [
       "['@FakerPattyPattz', '@alydesigns', '@mrsaintnick']"
      ]
     },
     "execution_count": 12,
     "metadata": {},
     "output_type": "execute_result"
    }
   ],
   "source": [
    "# Approach 2 👉 using list comprehension\n",
    "# list of words with '@' symbol\n",
    "[word for tweet in tweet_list for word in ''.join(tweet).split(' ') if '@' in word]"
   ]
  },
  {
   "cell_type": "code",
   "execution_count": 13,
   "metadata": {},
   "outputs": [
    {
     "name": "stdout",
     "output_type": "stream",
     "text": [
      "[['@FakerPattyPattz Oh dear. Were you @test1 drinking out of the forgotten table drinks?'], [\"@alydesigns i was @ test4 out most of the day @test2 so didn't get much done\"], [\"@mrsaintnick hey! i'm @test3 leavin in the morning...\"]]\n"
     ]
    }
   ],
   "source": [
    "# test the implementation - add @test1, @test2, @test3, @ test4\n",
    "tweet_list_test = [\n",
    "                [\"@FakerPattyPattz Oh dear. Were you @test1 drinking out of the forgotten table drinks?\"],\n",
    "                [\"@alydesigns i was @ test4 out most of the day @test2 so didn't get much done\"],\n",
    "                [\"@mrsaintnick hey! i'm @test3 leavin in the morning...\"]\n",
    "             ]\n",
    "\n",
    "# print test tweet list\n",
    "print(tweet_list_test)"
   ]
  },
  {
   "cell_type": "code",
   "execution_count": 14,
   "metadata": {},
   "outputs": [
    {
     "data": {
      "text/plain": [
       "['@FakerPattyPattz',\n",
       " '@test1',\n",
       " '@alydesigns',\n",
       " '@',\n",
       " '@test2',\n",
       " '@mrsaintnick',\n",
       " '@test3']"
      ]
     },
     "execution_count": 14,
     "metadata": {},
     "output_type": "execute_result"
    }
   ],
   "source": [
    "# list of words with '@' symbol\n",
    "[word for tweet in tweet_list_test for word in ''.join(tweet).split(' ') if '@' in word]"
   ]
  },
  {
   "cell_type": "code",
   "execution_count": 15,
   "metadata": {},
   "outputs": [
    {
     "data": {
      "text/plain": [
       "['Odd', 'Even', 'Odd', 'Even', 'Odd', 'Even', 'Odd', 'Even', 'Odd']"
      ]
     },
     "execution_count": 15,
     "metadata": {},
     "output_type": "execute_result"
    }
   ],
   "source": [
    "# check if a number is even or odd\n",
    "['Even' if num % 2 == 0 else 'Odd' for num in range(1,10)]"
   ]
  }
 ],
 "metadata": {
  "kernelspec": {
   "display_name": "Python 3",
   "language": "python",
   "name": "python3"
  },
  "language_info": {
   "codemirror_mode": {
    "name": "ipython",
    "version": 3
   },
   "file_extension": ".py",
   "mimetype": "text/x-python",
   "name": "python",
   "nbconvert_exporter": "python",
   "pygments_lexer": "ipython3",
   "version": "3.7.6"
  }
 },
 "nbformat": 4,
 "nbformat_minor": 4
}
