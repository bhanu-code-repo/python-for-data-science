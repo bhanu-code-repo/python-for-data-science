{
 "cells": [
  {
   "cell_type": "code",
   "execution_count": 1,
   "metadata": {},
   "outputs": [
    {
     "data": {
      "text/plain": [
       "[5, 7, 4, 2, 1, 3, 6]"
      ]
     },
     "execution_count": 1,
     "metadata": {},
     "output_type": "execute_result"
    }
   ],
   "source": [
    "# list of integers\n",
    "int_list = [5, 7, 4, 2, 1, 3, 6]\n",
    "int_list"
   ]
  },
  {
   "cell_type": "code",
   "execution_count": 2,
   "metadata": {},
   "outputs": [
    {
     "data": {
      "text/plain": [
       "{1, 2, 3, 4, 5, 6, 7}"
      ]
     },
     "execution_count": 2,
     "metadata": {},
     "output_type": "execute_result"
    }
   ],
   "source": [
    "# set of integers\n",
    "int_set = {5, 7, 4, 2, 1, 3, 6}\n",
    "int_set"
   ]
  },
  {
   "cell_type": "code",
   "execution_count": 3,
   "metadata": {},
   "outputs": [],
   "source": [
    "# type of games\n",
    "indoor = 'Table Tennis'\n",
    "outdoor = 'Football'\n",
    "board = 'Catan'\n",
    "video = 'FIFA'"
   ]
  },
  {
   "cell_type": "code",
   "execution_count": 4,
   "metadata": {},
   "outputs": [
    {
     "name": "stdout",
     "output_type": "stream",
     "text": [
      "Type (Indoor): -4464433993617502454\n",
      "Type (Outdoor): -3145543740851613275\n",
      "Type (Board): -5590025923601514433\n",
      "Type (Video): 7232675453759160815\n"
     ]
    }
   ],
   "source": [
    "# print their hash values\n",
    "print('Type (Indoor):',hash(indoor))\n",
    "print('Type (Outdoor):',hash(outdoor))\n",
    "print('Type (Board):',hash(board))\n",
    "print('Type (Video):',hash(video))"
   ]
  },
  {
   "cell_type": "code",
   "execution_count": 5,
   "metadata": {},
   "outputs": [
    {
     "data": {
      "text/plain": [
       "{'Catan', 'FIFA', 'Football', 'Table Tennis'}"
      ]
     },
     "execution_count": 5,
     "metadata": {},
     "output_type": "execute_result"
    }
   ],
   "source": [
    "# create set of games\n",
    "games = {video, outdoor, indoor, board}\n",
    "games"
   ]
  },
  {
   "cell_type": "code",
   "execution_count": 6,
   "metadata": {},
   "outputs": [
    {
     "name": "stdout",
     "output_type": "stream",
     "text": [
      "Table Tennis\n",
      "Football\n",
      "Catan\n",
      "FIFA\n"
     ]
    }
   ],
   "source": [
    "# iterate through set \n",
    "for game in games:\n",
    "    print(game)"
   ]
  },
  {
   "cell_type": "code",
   "execution_count": 7,
   "metadata": {},
   "outputs": [
    {
     "data": {
      "text/plain": [
       "['FIFA',\n",
       " 'Football',\n",
       " 'Table Tennis',\n",
       " 'Football',\n",
       " 'Catan',\n",
       " 'Football',\n",
       " 'FIFA',\n",
       " 'Table Tennis',\n",
       " 'Catan',\n",
       " 'Football',\n",
       " 'FIFA']"
      ]
     },
     "execution_count": 7,
     "metadata": {},
     "output_type": "execute_result"
    }
   ],
   "source": [
    "# create list of games\n",
    "games_list = [video, outdoor, indoor, outdoor, board, outdoor, video, indoor, board, outdoor, video]\n",
    "games_list"
   ]
  },
  {
   "cell_type": "code",
   "execution_count": 8,
   "metadata": {},
   "outputs": [
    {
     "data": {
      "text/plain": [
       "{'Catan', 'FIFA', 'Football', 'Table Tennis'}"
      ]
     },
     "execution_count": 8,
     "metadata": {},
     "output_type": "execute_result"
    }
   ],
   "source": [
    "# create set of games\n",
    "games_set = {video, outdoor, indoor, outdoor, board, outdoor, video, indoor, board, outdoor, video}\n",
    "games_set"
   ]
  },
  {
   "cell_type": "code",
   "execution_count": 9,
   "metadata": {},
   "outputs": [
    {
     "ename": "TypeError",
     "evalue": "unhashable type: 'list'",
     "output_type": "error",
     "traceback": [
      "\u001b[0;31m---------------------------------------------------------------------------\u001b[0m",
      "\u001b[0;31mTypeError\u001b[0m                                 Traceback (most recent call last)",
      "\u001b[0;32m<ipython-input-9-592af760d638>\u001b[0m in \u001b[0;36m<module>\u001b[0;34m\u001b[0m\n\u001b[1;32m      4\u001b[0m \u001b[0;34m\u001b[0m\u001b[0m\n\u001b[1;32m      5\u001b[0m \u001b[0;31m# create game type set -> below code will give error\u001b[0m\u001b[0;34m\u001b[0m\u001b[0;34m\u001b[0m\u001b[0;34m\u001b[0m\u001b[0m\n\u001b[0;32m----> 6\u001b[0;31m \u001b[0mgame_type_set\u001b[0m \u001b[0;34m=\u001b[0m \u001b[0;34m{\u001b[0m\u001b[0mgame_type_1\u001b[0m\u001b[0;34m,\u001b[0m \u001b[0mgame_type_2\u001b[0m\u001b[0;34m}\u001b[0m\u001b[0;34m\u001b[0m\u001b[0;34m\u001b[0m\u001b[0m\n\u001b[0m\u001b[1;32m      7\u001b[0m \u001b[0mgame_type_set\u001b[0m\u001b[0;34m\u001b[0m\u001b[0;34m\u001b[0m\u001b[0m\n",
      "\u001b[0;31mTypeError\u001b[0m: unhashable type: 'list'"
     ]
    }
   ],
   "source": [
    "# create list of game types\n",
    "game_type_1 = [indoor, board]\n",
    "game_type_2 = [outdoor, video]\n",
    "\n",
    "# create game type set -> below code will give error\n",
    "game_type_set = {game_type_1, game_type_2}\n",
    "game_type_set"
   ]
  },
  {
   "cell_type": "code",
   "execution_count": 10,
   "metadata": {},
   "outputs": [
    {
     "data": {
      "text/plain": [
       "[2, 3, 4, 5, 4, 6, 8, 10, 6, 9, 12, 15, 8, 12, 16, 20, 10, 15, 20, 25]"
      ]
     },
     "execution_count": 10,
     "metadata": {},
     "output_type": "execute_result"
    }
   ],
   "source": [
    "# create empty list \n",
    "int_list = []\n",
    "\n",
    "# iterate over the range of integers\n",
    "for val1 in range(1,6):\n",
    "    # iterate over the range of integers\n",
    "    for val2 in range(2,6):\n",
    "        int_list.append(val1 * val2)\n",
    "        \n",
    "# print list of integers\n",
    "int_list"
   ]
  },
  {
   "cell_type": "code",
   "execution_count": 11,
   "metadata": {},
   "outputs": [
    {
     "data": {
      "text/plain": [
       "{2, 3, 4, 5, 6, 8, 9, 10, 12, 15, 16, 20, 25}"
      ]
     },
     "execution_count": 11,
     "metadata": {},
     "output_type": "execute_result"
    }
   ],
   "source": [
    "# create empty list \n",
    "int_set = set()\n",
    "\n",
    "# iterate over the range of integers\n",
    "for val1 in range(1,6):\n",
    "    # iterate over the range of integers\n",
    "    for val2 in range(2,6):\n",
    "        int_set.add(val1 * val2)\n",
    "        \n",
    "# print list of integers\n",
    "int_set"
   ]
  },
  {
   "cell_type": "code",
   "execution_count": 12,
   "metadata": {},
   "outputs": [
    {
     "data": {
      "text/plain": [
       "[2, 3, 4, 5, 4, 6, 8, 10, 6, 9, 12, 15, 8, 12, 16, 20, 10, 15, 20, 25]"
      ]
     },
     "execution_count": 12,
     "metadata": {},
     "output_type": "execute_result"
    }
   ],
   "source": [
    "# create list of integers using list comprehension\n",
    "[val1 * val2 for val1 in range(1,6) for val2 in range(2,6)]"
   ]
  },
  {
   "cell_type": "code",
   "execution_count": 13,
   "metadata": {},
   "outputs": [
    {
     "data": {
      "text/plain": [
       "{2, 3, 4, 5, 6, 8, 9, 10, 12, 15, 16, 20, 25}"
      ]
     },
     "execution_count": 13,
     "metadata": {},
     "output_type": "execute_result"
    }
   ],
   "source": [
    "# create set of integers using set comprehension\n",
    "{val1 * val2 for val1 in range(1,6) for val2 in range(2,6)}"
   ]
  },
  {
   "cell_type": "code",
   "execution_count": 14,
   "metadata": {},
   "outputs": [
    {
     "data": {
      "text/plain": [
       "{'Earth', 'Jupiter', 'Mars', 'Mercury', 'Neptune', 'Saturn', 'Uranus', 'Venus'}"
      ]
     },
     "execution_count": 14,
     "metadata": {},
     "output_type": "execute_result"
    }
   ],
   "source": [
    "# input string with repetitive planet names\n",
    "inp_string = 'Sun #Jupiter #Uranus #Earth #Mars Ganymede #Saturn Titan #Mercury Callisto Moon  Europa \\\n",
    "                #Venus Triton #Neptune Pluto Eris #Earth Haumea Rhea #Venus Makemake #Uranus Titania #Saturn'\n",
    "\n",
    "# get set of planets\n",
    "{planet[1:] for planet in inp_string.split(' ') if '#' in planet}"
   ]
  }
 ],
 "metadata": {
  "kernelspec": {
   "display_name": "Python 3",
   "language": "python",
   "name": "python3"
  },
  "language_info": {
   "codemirror_mode": {
    "name": "ipython",
    "version": 3
   },
   "file_extension": ".py",
   "mimetype": "text/x-python",
   "name": "python",
   "nbconvert_exporter": "python",
   "pygments_lexer": "ipython3",
   "version": "3.7.6"
  }
 },
 "nbformat": 4,
 "nbformat_minor": 4
}
