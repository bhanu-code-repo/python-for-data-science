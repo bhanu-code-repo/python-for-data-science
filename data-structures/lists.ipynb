{
 "cells": [
  {
   "cell_type": "markdown",
   "id": "outstanding-edgar",
   "metadata": {},
   "source": [
    "# <center>Lists"
   ]
  },
  {
   "cell_type": "markdown",
   "id": "based-delight",
   "metadata": {},
   "source": [
    "### Define Lists"
   ]
  },
  {
   "cell_type": "code",
   "execution_count": 1,
   "id": "beautiful-trinity",
   "metadata": {},
   "outputs": [],
   "source": [
    "# Define a list of numbers\n",
    "scores = [88, 92, 78, 90, 98, 84]"
   ]
  },
  {
   "cell_type": "code",
   "execution_count": 40,
   "id": "cardiac-handy",
   "metadata": {},
   "outputs": [],
   "source": [
    "# Define a list of strings (names)\n",
    "students = [\"Mark\", \"Amber\", \"Todd\", \"Anita\", \"Sandy\"]"
   ]
  },
  {
   "cell_type": "markdown",
   "id": "coordinate-illustration",
   "metadata": {},
   "source": [
    "### Referencing list items by position\n",
    "Syntax - **list_name[index]**\n",
    "* Fact 1 : `list` is any list of data items, separated by commas, inside square brackets \n",
    "* Fact 2 : each item in a list has a position number, starting with zero, even though we don’t see any numbers\n",
    "\n",
    "**fruits_list = ['apple', 'mango', 'orange', 'banana', 'grapes']**\n",
    "\n",
    "can be visualized as,\n",
    "\n",
    "| index | apple | mango | orange | banana | grapes |\n",
    "| --- | --- | --- | --- | --- | --- |\n",
    "| number | 0 | 1 | 2 | 3 | 4 |"
   ]
  },
  {
   "cell_type": "code",
   "execution_count": 3,
   "id": "threaded-sitting",
   "metadata": {},
   "outputs": [],
   "source": [
    "# Define a list of fruits\n",
    "fruits_list = ['apple', 'mango', 'orange', 'banana', 'grapes']"
   ]
  },
  {
   "cell_type": "code",
   "execution_count": 6,
   "id": "retired-restriction",
   "metadata": {},
   "outputs": [
    {
     "name": "stdout",
     "output_type": "stream",
     "text": [
      "['apple', 'mango', 'orange', 'banana', 'grapes']\n"
     ]
    }
   ],
   "source": [
    "# View list\n",
    "print(fruits_list)"
   ]
  },
  {
   "cell_type": "code",
   "execution_count": 4,
   "id": "imperial-advocate",
   "metadata": {},
   "outputs": [
    {
     "name": "stdout",
     "output_type": "stream",
     "text": [
      "apple\n"
     ]
    }
   ],
   "source": [
    "print(fruits_list[0])"
   ]
  },
  {
   "cell_type": "code",
   "execution_count": 5,
   "id": "proprietary-latex",
   "metadata": {},
   "outputs": [
    {
     "name": "stdout",
     "output_type": "stream",
     "text": [
      "grapes\n"
     ]
    }
   ],
   "source": [
    "print(fruits_list[4])"
   ]
  },
  {
   "cell_type": "markdown",
   "id": "comprehensive-sherman",
   "metadata": {},
   "source": [
    "If we try to access a list item that doesn't exist, we get an `index out of range` error. The index part is a reference to the number inside the square brackets i.e. 0 (fruits_list[**0**]) and 4 (fruits_list[**4**])"
   ]
  },
  {
   "cell_type": "code",
   "execution_count": 7,
   "id": "spread-tsunami",
   "metadata": {},
   "outputs": [
    {
     "ename": "IndexError",
     "evalue": "list index out of range",
     "output_type": "error",
     "traceback": [
      "\u001b[1;31m---------------------------------------------------------------------------\u001b[0m",
      "\u001b[1;31mIndexError\u001b[0m                                Traceback (most recent call last)",
      "\u001b[1;32m<ipython-input-7-ca7a46d96e00>\u001b[0m in \u001b[0;36m<module>\u001b[1;34m\u001b[0m\n\u001b[0;32m      1\u001b[0m \u001b[1;31m# Below code will give error\u001b[0m\u001b[1;33m\u001b[0m\u001b[1;33m\u001b[0m\u001b[1;33m\u001b[0m\u001b[0m\n\u001b[1;32m----> 2\u001b[1;33m \u001b[0mprint\u001b[0m\u001b[1;33m(\u001b[0m\u001b[0mfruits_list\u001b[0m\u001b[1;33m[\u001b[0m\u001b[1;36m5\u001b[0m\u001b[1;33m]\u001b[0m\u001b[1;33m)\u001b[0m\u001b[1;33m\u001b[0m\u001b[1;33m\u001b[0m\u001b[0m\n\u001b[0m",
      "\u001b[1;31mIndexError\u001b[0m: list index out of range"
     ]
    }
   ],
   "source": [
    "# Below code will give error\n",
    "print(fruits_list[5])"
   ]
  },
  {
   "cell_type": "markdown",
   "id": "european-inspection",
   "metadata": {},
   "source": [
    "### Looping through a list"
   ]
  },
  {
   "cell_type": "markdown",
   "id": "tender-delay",
   "metadata": {},
   "source": [
    "For looping here we can use for loop,\n",
    "\n",
    "Syntex - **for x in list**\n",
    "\n",
    "Important to know `x` shall be replaced with a variable name of our choosing.\n",
    "\n",
    "For example, in list `scores` (define above), if we use x as mentioned below,"
   ]
  },
  {
   "cell_type": "code",
   "execution_count": 9,
   "id": "vital-server",
   "metadata": {},
   "outputs": [
    {
     "name": "stdout",
     "output_type": "stream",
     "text": [
      "88\n",
      "92\n",
      "78\n",
      "90\n",
      "98\n",
      "84\n"
     ]
    }
   ],
   "source": [
    "# Sample 1\n",
    "for x in scores:\n",
    "    print(x)"
   ]
  },
  {
   "cell_type": "markdown",
   "id": "adaptive-roller",
   "metadata": {},
   "source": [
    "There is not wrong in doing this however instead of using x, if we replace `x` with `score`,"
   ]
  },
  {
   "cell_type": "code",
   "execution_count": 11,
   "id": "coral-finding",
   "metadata": {},
   "outputs": [
    {
     "name": "stdout",
     "output_type": "stream",
     "text": [
      "88\n",
      "92\n",
      "78\n",
      "90\n",
      "98\n",
      "84\n"
     ]
    }
   ],
   "source": [
    "for score in scores:\n",
    "    print(score)"
   ]
  },
  {
   "cell_type": "markdown",
   "id": "touched-brick",
   "metadata": {},
   "source": [
    "Now by doing this it's little bit easy to relate right i.e. we are trying to access indivisual score from list of scores."
   ]
  },
  {
   "cell_type": "code",
   "execution_count": 12,
   "id": "labeled-paris",
   "metadata": {},
   "outputs": [
    {
     "data": {
      "text/plain": [
       "6"
      ]
     },
     "execution_count": 12,
     "metadata": {},
     "output_type": "execute_result"
    }
   ],
   "source": [
    "# Find length of list - use len() function\n",
    "len(scores)"
   ]
  },
  {
   "cell_type": "code",
   "execution_count": 18,
   "id": "verbal-macintosh",
   "metadata": {},
   "outputs": [
    {
     "name": "stdout",
     "output_type": "stream",
     "text": [
      "Iteration number: 1, score: 88, index: 0\n",
      "Iteration number: 2, score: 92, index: 1\n",
      "Iteration number: 3, score: 78, index: 2\n",
      "Iteration number: 4, score: 90, index: 3\n",
      "Iteration number: 5, score: 98, index: 4\n",
      "Iteration number: 6, score: 84, index: 5\n"
     ]
    }
   ],
   "source": [
    "# Observe just output of this code\n",
    "counter = 1\n",
    "for score in scores:\n",
    "    print('Iteration number: {0}, score: {1}, index: {2}'.format(counter, score, counter -1))\n",
    "    counter += 1"
   ]
  },
  {
   "cell_type": "markdown",
   "id": "quiet-affairs",
   "metadata": {},
   "source": [
    "**How is `list length` and `for loop iterations` are related?**\n",
    "\n",
    "If we notice length of scores list = 6, number of iteration `for loop` completed on scores list = 6\n",
    "\n",
    "Basically what we can observe here is this, **Iteration's** can be visualized as,\n",
    "\n",
    "\n",
    "<img src='images/for_loop_iteration_1.jpg'>\n",
    "<img src='images/for_loop_iteration_2.jpg'>\n",
    "<img src='images/for_loop_iteration_3.jpg'>\n",
    "<img src='images/for_loop_iteration_4.jpg'>\n",
    "<img src='images/for_loop_iteration_5.jpg'>\n",
    "<img src='images/for_loop_iteration_6.jpg'>"
   ]
  },
  {
   "cell_type": "markdown",
   "id": "knowing-creator",
   "metadata": {},
   "source": [
    "### Seeing whether a list contains an item"
   ]
  },
  {
   "cell_type": "code",
   "execution_count": 31,
   "id": "remarkable-interval",
   "metadata": {},
   "outputs": [
    {
     "name": "stdout",
     "output_type": "stream",
     "text": [
      "True\n",
      "['Mark', 'Amber', 'Todd', 'Anita', 'Sandy']\n"
     ]
    }
   ],
   "source": [
    "# Check if students list has Mark\n",
    "has_mark = 'Mark' in students\n",
    "print(has_mark)\n",
    "print(students)"
   ]
  },
  {
   "cell_type": "code",
   "execution_count": 32,
   "id": "worth-house",
   "metadata": {},
   "outputs": [
    {
     "name": "stdout",
     "output_type": "stream",
     "text": [
      "False\n",
      "['Mark', 'Amber', 'Todd', 'Anita', 'Sandy']\n"
     ]
    }
   ],
   "source": [
    "# Check if students list has Tom\n",
    "has_tom = 'Tom' in students\n",
    "print(has_tom)\n",
    "print(students)"
   ]
  },
  {
   "cell_type": "markdown",
   "id": "nearby-seeking",
   "metadata": {},
   "source": [
    "### Adding an item to the end of a list"
   ]
  },
  {
   "cell_type": "code",
   "execution_count": 41,
   "id": "broke-direction",
   "metadata": {},
   "outputs": [
    {
     "name": "stdout",
     "output_type": "stream",
     "text": [
      "['Mark', 'Amber', 'Todd', 'Anita', 'Sandy']\n"
     ]
    }
   ],
   "source": [
    "# View students list\n",
    "# Note if no list exists then we are supposed to create one\n",
    "print(students)"
   ]
  },
  {
   "cell_type": "code",
   "execution_count": 42,
   "id": "terminal-kernel",
   "metadata": {},
   "outputs": [
    {
     "name": "stdout",
     "output_type": "stream",
     "text": [
      "['Mark', 'Amber', 'Todd', 'Anita', 'Sandy', 'Tom']\n"
     ]
    }
   ],
   "source": [
    "# Let's add Tom to list\n",
    "students.append('Tom')\n",
    "print(students)"
   ]
  },
  {
   "cell_type": "code",
   "execution_count": 43,
   "id": "measured-minutes",
   "metadata": {},
   "outputs": [
    {
     "name": "stdout",
     "output_type": "stream",
     "text": [
      "['Mark', 'Amber', 'Todd', 'Anita', 'Sandy', 'Tom', 'Rehana']\n"
     ]
    }
   ],
   "source": [
    "new_student = 'Rehana'\n",
    "# Add whatever name is in new_student to the list\n",
    "students.append(new_student)\n",
    "print(students)"
   ]
  },
  {
   "cell_type": "code",
   "execution_count": 44,
   "id": "intelligent-mills",
   "metadata": {},
   "outputs": [
    {
     "name": "stdout",
     "output_type": "stream",
     "text": [
      "['Mark', 'Amber', 'Todd', 'Anita', 'Sandy', 'Tom', 'Rehana', 'Tom']\n"
     ]
    }
   ],
   "source": [
    "# Let's add Tom again to list\n",
    "students.append('Tom')\n",
    "print(students)"
   ]
  },
  {
   "cell_type": "markdown",
   "id": "alike-performance",
   "metadata": {},
   "source": [
    "**Fact: List allow ro add duplicates**"
   ]
  },
  {
   "cell_type": "code",
   "execution_count": null,
   "id": "announced-prototype",
   "metadata": {},
   "outputs": [],
   "source": []
  }
 ],
 "metadata": {
  "kernelspec": {
   "display_name": "Python 3",
   "language": "python",
   "name": "python3"
  },
  "language_info": {
   "codemirror_mode": {
    "name": "ipython",
    "version": 3
   },
   "file_extension": ".py",
   "mimetype": "text/x-python",
   "name": "python",
   "nbconvert_exporter": "python",
   "pygments_lexer": "ipython3",
   "version": "3.7.3"
  }
 },
 "nbformat": 4,
 "nbformat_minor": 5
}
